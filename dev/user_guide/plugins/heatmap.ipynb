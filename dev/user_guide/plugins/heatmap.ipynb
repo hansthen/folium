{
 "cells": [
  {
   "cell_type": "markdown",
   "id": "ff089a9f",
   "metadata": {},
   "source": [
    "## Heatmap"
   ]
  },
  {
   "cell_type": "code",
   "execution_count": 1,
   "id": "647668df",
   "metadata": {
    "execution": {
     "iopub.execute_input": "2025-06-01T13:20:36.736304Z",
     "iopub.status.busy": "2025-06-01T13:20:36.736130Z",
     "iopub.status.idle": "2025-06-01T13:20:36.789763Z",
     "shell.execute_reply": "2025-06-01T13:20:36.789342Z"
    }
   },
   "outputs": [],
   "source": [
    "import numpy as np\n",
    "\n",
    "data = (\n",
    "    np.random.normal(size=(100, 3)) * np.array([[1, 1, 1]]) + np.array([[48, 5, 1]])\n",
    ").tolist()"
   ]
  },
  {
   "cell_type": "code",
   "execution_count": 2,
   "id": "f449f5f3",
   "metadata": {
    "execution": {
     "iopub.execute_input": "2025-06-01T13:20:36.791794Z",
     "iopub.status.busy": "2025-06-01T13:20:36.791588Z",
     "iopub.status.idle": "2025-06-01T13:20:37.232512Z",
     "shell.execute_reply": "2025-06-01T13:20:37.232009Z"
    }
   },
   "outputs": [
    {
     "data": {
      "text/html": [
       "<div style=\"width:100%;\"><div style=\"position:relative;width:100%;height:0;padding-bottom:60%;\"><span style=\"color:#565656\">Make this Notebook Trusted to load map: File -> Trust Notebook</span><iframe srcdoc=\"&lt;!DOCTYPE html&gt;\n",
       "&lt;html&gt;\n",
       "&lt;head&gt;\n",
       "    \n",
       "    &lt;meta http-equiv=&quot;content-type&quot; content=&quot;text/html; charset=UTF-8&quot; /&gt;\n",
       "    &lt;script src=&quot;https://cdn.jsdelivr.net/npm/leaflet@1.9.3/dist/leaflet.js&quot;&gt;&lt;/script&gt;\n",
       "    &lt;script src=&quot;https://code.jquery.com/jquery-3.7.1.min.js&quot;&gt;&lt;/script&gt;\n",
       "    &lt;script src=&quot;https://cdn.jsdelivr.net/npm/bootstrap@5.2.2/dist/js/bootstrap.bundle.min.js&quot;&gt;&lt;/script&gt;\n",
       "    &lt;script src=&quot;https://cdnjs.cloudflare.com/ajax/libs/Leaflet.awesome-markers/2.0.2/leaflet.awesome-markers.js&quot;&gt;&lt;/script&gt;\n",
       "    &lt;link rel=&quot;stylesheet&quot; href=&quot;https://cdn.jsdelivr.net/npm/leaflet@1.9.3/dist/leaflet.css&quot;/&gt;\n",
       "    &lt;link rel=&quot;stylesheet&quot; href=&quot;https://cdn.jsdelivr.net/npm/bootstrap@5.2.2/dist/css/bootstrap.min.css&quot;/&gt;\n",
       "    &lt;link rel=&quot;stylesheet&quot; href=&quot;https://netdna.bootstrapcdn.com/bootstrap/3.0.0/css/bootstrap-glyphicons.css&quot;/&gt;\n",
       "    &lt;link rel=&quot;stylesheet&quot; href=&quot;https://cdn.jsdelivr.net/npm/@fortawesome/fontawesome-free@6.2.0/css/all.min.css&quot;/&gt;\n",
       "    &lt;link rel=&quot;stylesheet&quot; href=&quot;https://cdnjs.cloudflare.com/ajax/libs/Leaflet.awesome-markers/2.0.2/leaflet.awesome-markers.css&quot;/&gt;\n",
       "    &lt;link rel=&quot;stylesheet&quot; href=&quot;https://cdn.jsdelivr.net/gh/python-visualization/folium/folium/templates/leaflet.awesome.rotate.min.css&quot;/&gt;\n",
       "    \n",
       "            &lt;meta name=&quot;viewport&quot; content=&quot;width=device-width,\n",
       "                initial-scale=1.0, maximum-scale=1.0, user-scalable=no&quot; /&gt;\n",
       "            &lt;style&gt;\n",
       "                #map_e1ad99229ffbcf2ed3deae6843558fce {\n",
       "                    position: relative;\n",
       "                    width: 100.0%;\n",
       "                    height: 100.0%;\n",
       "                    left: 0.0%;\n",
       "                    top: 0.0%;\n",
       "                }\n",
       "                .leaflet-container { font-size: 1rem; }\n",
       "            &lt;/style&gt;\n",
       "\n",
       "            &lt;style&gt;html, body {\n",
       "                width: 100%;\n",
       "                height: 100%;\n",
       "                margin: 0;\n",
       "                padding: 0;\n",
       "            }\n",
       "            &lt;/style&gt;\n",
       "\n",
       "            &lt;style&gt;#map {\n",
       "                position:absolute;\n",
       "                top:0;\n",
       "                bottom:0;\n",
       "                right:0;\n",
       "                left:0;\n",
       "                }\n",
       "            &lt;/style&gt;\n",
       "\n",
       "            &lt;script&gt;\n",
       "                L_NO_TOUCH = false;\n",
       "                L_DISABLE_3D = false;\n",
       "            &lt;/script&gt;\n",
       "\n",
       "        \n",
       "    &lt;script src=&quot;https://cdn.jsdelivr.net/gh/python-visualization/folium@main/folium/templates/leaflet_heat.min.js&quot;&gt;&lt;/script&gt;\n",
       "&lt;/head&gt;\n",
       "&lt;body&gt;\n",
       "    \n",
       "    \n",
       "            &lt;div class=&quot;folium-map&quot; id=&quot;map_e1ad99229ffbcf2ed3deae6843558fce&quot; &gt;&lt;/div&gt;\n",
       "        \n",
       "&lt;/body&gt;\n",
       "&lt;script&gt;\n",
       "    \n",
       "    \n",
       "            var map_e1ad99229ffbcf2ed3deae6843558fce = L.map(\n",
       "                &quot;map_e1ad99229ffbcf2ed3deae6843558fce&quot;,\n",
       "                {\n",
       "                    center: [48.0, 5.0],\n",
       "                    crs: L.CRS.EPSG3857,\n",
       "                    ...{\n",
       "  &quot;zoom&quot;: 6,\n",
       "  &quot;zoomControl&quot;: true,\n",
       "  &quot;preferCanvas&quot;: false,\n",
       "}\n",
       "\n",
       "                }\n",
       "            );\n",
       "\n",
       "            \n",
       "\n",
       "        \n",
       "    \n",
       "            var tile_layer_6cdb6e29ab404fdbc7f4428e8d3b1e6a = L.tileLayer(\n",
       "                &quot;https://tile.openstreetmap.org/{z}/{x}/{y}.png&quot;,\n",
       "                {\n",
       "  &quot;minZoom&quot;: 0,\n",
       "  &quot;maxZoom&quot;: 19,\n",
       "  &quot;maxNativeZoom&quot;: 19,\n",
       "  &quot;noWrap&quot;: false,\n",
       "  &quot;attribution&quot;: &quot;\\u0026copy; \\u003ca href=\\&quot;https://www.openstreetmap.org/copyright\\&quot;\\u003eOpenStreetMap\\u003c/a\\u003e contributors&quot;,\n",
       "  &quot;subdomains&quot;: &quot;abc&quot;,\n",
       "  &quot;detectRetina&quot;: false,\n",
       "  &quot;tms&quot;: false,\n",
       "  &quot;opacity&quot;: 1,\n",
       "}\n",
       "\n",
       "            );\n",
       "        \n",
       "    \n",
       "            tile_layer_6cdb6e29ab404fdbc7f4428e8d3b1e6a.addTo(map_e1ad99229ffbcf2ed3deae6843558fce);\n",
       "        \n",
       "    \n",
       "            var heat_map_6c6febe8f2ad14b21a41fd36ab20e66e = L.heatLayer(\n",
       "                [[47.89809575505175, 4.707322944758901, 0.8449683637373676], [46.33582468597071, 5.19572324823832, 2.3579743175971144], [48.407153237979834, 5.101831993057371, 2.111177258186907], [47.70764858680047, 5.242253756282452, -1.351468460449694], [48.743666601379935, 6.758946373324675, 2.703162238637285], [48.759612924129534, 4.065735324228136, 1.1914447530714716], [47.26848963457672, 3.599086861923323, 0.5406540208183799], [49.06730828325686, 3.5631263678031306, 1.7546060167997464], [46.335471809636346, 4.429241875842219, 0.5983195638884414], [48.22255216272229, 5.072747782825052, 0.3811445223960569], [45.965706308587606, 4.841972688888544, -1.732294481155825], [47.550033340452636, 4.618385201329182, 2.964510956072573], [49.051433321964346, 6.195229252355301, 1.2595103913242736], [49.30325782372354, 4.228076801171228, 2.301566170256688], [46.65419605010138, 4.725076733649325, 2.126835090274439], [49.30075431116562, 5.049656765961907, 0.7729559572779944], [47.23409557328633, 3.046889850432633, -0.5398688346297085], [47.604250656532265, 4.178857132884625, 1.1732571533583003], [48.84498206438353, 6.9196231432926965, 0.19440448282339007], [47.75471762733196, 4.247235719158837, 0.8242899848839371], [47.93240060041602, 3.628522379136974, 1.9466273995851058], [47.76712407423258, 4.0465412990224925, 0.7580029344021308], [48.81298143289891, 4.062723025248498, 0.9511406709078873], [47.68692884487174, 5.006759901931306, 1.396520014937206], [48.65216948796735, 4.297358215825812, 1.4093049669577655], [48.89429769804381, 2.6602309130776427, 0.2241422910278712], [47.54187319307166, 3.7646578238111488, 0.8072918152155344], [48.08565105523664, 4.1790826437960895, 2.20284669990074], [46.84523329298284, 5.085453553067871, 0.29344094751185623], [46.99391005772495, 5.27820980065251, 0.9433315490395978], [49.229775921989855, 7.2165131589373965, -0.03958807144775789], [47.15682273560573, 5.3171030870096105, 2.708847699614868], [48.62806009267306, 4.9588078871754755, 1.6754050505666829], [47.40899785203122, 7.221264786347874, 1.7093628525481757], [47.95108161401061, 5.954487441445476, 1.081024169063644], [47.01279214096024, 2.96309936841561, 1.0097304900657653], [48.24555819539054, 5.0489956409483785, 0.4928943417991267], [47.86314035095849, 5.2193436768613095, 1.8953282866971186], [48.08930737505321, 5.706884252252204, 1.2941777576987423], [48.81204998023226, 3.7827913989496302, 3.466185585242671], [48.02745510914286, 5.530442156047491, 0.7061556513264462], [47.86397399717362, 3.5507512955164184, 1.0916947859871915], [49.70095856782607, 3.9434435210702956, 1.2796738560915673], [46.92715055890951, 4.71219025716109, 2.211805050659024], [47.56336962628096, 3.9489056182516764, 1.3719163023037566], [48.49805046406666, 5.021115570883072, 1.3253843655091098], [46.476325184436945, 3.5281953845623226, 1.3757507429119837], [51.428246769927966, 5.573300842048509, -0.2760456406504934], [48.31735034287909, 6.049129814893997, 1.9756912963604831], [47.32192114048689, 4.73865332794933, 2.112653109814475], [48.49164580249678, 3.7501729186043193, -0.07787236985100643], [47.896267689870356, 3.739376552956976, 0.9320229378842533], [48.006903041297775, 5.695845477161221, 0.49906459632067857], [48.653195966670424, 5.731651795987631, 0.974944269717734], [47.434852271225765, 4.3318059783244145, 2.1182579444098786], [47.5878597668378, 3.861204152179839, 1.2305273808508945], [47.23434486757201, 4.772735927587449, 1.4709982900242955], [48.00008635806254, 5.950215437049269, 1.6109599051557812], [48.563705100030845, 2.1511721014060554, 0.025338987695092796], [47.01630696547983, 4.523740125393432, -0.16698614447695537], [47.64848850618542, 5.477122339497364, 1.7720369976942738], [45.545215898266036, 5.7682478292120045, 0.7326331108402969], [45.39586277289237, 5.72132813783645, 0.05768052992427075], [46.706082852878104, 3.2317289902232216, 0.9361544433165736], [47.564483655174236, 3.419557258053734, 1.4579210435576284], [48.6203296859588, 5.363835699789419, 2.5844876442555362], [47.759411950960576, 5.517701739695527, 0.6706060192771863], [48.07507035240301, 5.448732732911308, 1.508124445199823], [48.938390787343735, 5.806453912283335, 1.214510071504596], [48.70487552734127, 4.137716103777488, 1.6752730758530852], [48.183937768966324, 4.846869602764083, -0.46804902974113594], [48.86683916927079, 5.284421150150848, 1.8322709110956392], [46.94586771119854, 3.885090110297396, 0.9400489899418744], [48.58711617953197, 6.871641721377122, 0.37066521331916213], [48.0904435892973, 6.453362302649459, 1.8721997534460917], [47.40149288475443, 4.968134048738004, 0.15374936376244785], [47.25674029887617, 4.381259806022836, -1.6000723690688514], [47.984079948163085, 5.302948707644793, 1.7851139591448142], [47.21332619873264, 4.780706971825422, 1.6337354903902734], [47.48964707725382, 6.556577168545987, 0.7917182573718562], [48.79409982689002, 5.374340071332721, -0.5369687981213034], [47.73337404788661, 3.305155126844533, 0.897975326134737], [47.16526325987845, 5.336231440036231, -0.20593436945299648], [49.15041950836093, 6.0049165823859845, 1.4944583673812262], [48.020880850498635, 4.424299592397961, -0.085551774545918], [48.625622421791235, 6.357234394727112, 0.6944131223814605], [47.68220018056366, 4.353528204810013, 1.8066573453507695], [46.90175314301193, 3.2690486907086345, -1.456177320326598], [47.57329020339294, 4.994278338416938, -0.09260749593455975], [48.776614164308775, 5.695556454000386, 1.6337038204319196], [47.56101955906002, 5.422749760923136, 0.6311233850795399], [46.554351696638136, 4.529507937554038, 0.7802865395674804], [47.48253930257498, 6.807168969978127, 1.0485460289081838], [47.14963457562298, 4.667702009197958, 1.559090390077075], [48.258328850618234, 6.18178534691468, 2.028225013353254], [48.36251389278263, 3.832896093980784, -0.489717974256223], [47.50976250656388, 5.044093216680544, 1.9513799606162003], [47.00584510502125, 7.130160953175806, 0.3060476596192413], [48.51917761555403, 4.087677974210155, 0.2675813511800229], [45.56141715073128, 6.60044303498249, 2.189969886200257]],\n",
       "                {\n",
       "  &quot;minOpacity&quot;: 0.5,\n",
       "  &quot;maxZoom&quot;: 18,\n",
       "  &quot;radius&quot;: 25,\n",
       "  &quot;blur&quot;: 15,\n",
       "}\n",
       "            );\n",
       "        \n",
       "    \n",
       "            heat_map_6c6febe8f2ad14b21a41fd36ab20e66e.addTo(map_e1ad99229ffbcf2ed3deae6843558fce);\n",
       "        \n",
       "&lt;/script&gt;\n",
       "&lt;/html&gt;\" style=\"position:absolute;width:100%;height:100%;left:0;top:0;border:none !important;\" allowfullscreen webkitallowfullscreen mozallowfullscreen></iframe></div></div>"
      ],
      "text/plain": [
       "<folium.folium.Map at 0x7fcc4c324530>"
      ]
     },
     "execution_count": 2,
     "metadata": {},
     "output_type": "execute_result"
    }
   ],
   "source": [
    "import folium\n",
    "from folium.plugins import HeatMap\n",
    "\n",
    "m = folium.Map([48.0, 5.0], zoom_start=6)\n",
    "\n",
    "HeatMap(data).add_to(m)\n",
    "\n",
    "m"
   ]
  }
 ],
 "metadata": {
  "jupytext": {
   "text_representation": {
    "extension": ".mystnb",
    "format_name": "myst"
   }
  },
  "language_info": {
   "codemirror_mode": {
    "name": "ipython",
    "version": 3
   },
   "file_extension": ".py",
   "mimetype": "text/x-python",
   "name": "python",
   "nbconvert_exporter": "python",
   "pygments_lexer": "ipython3",
   "version": "3.12.10"
  }
 },
 "nbformat": 4,
 "nbformat_minor": 5
}
