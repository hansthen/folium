{
 "cells": [
  {
   "cell_type": "markdown",
   "id": "a97721ec",
   "metadata": {},
   "source": [
    "## Heatmap"
   ]
  },
  {
   "cell_type": "code",
   "execution_count": 1,
   "id": "a96bc57c",
   "metadata": {
    "execution": {
     "iopub.execute_input": "2025-01-16T14:54:57.584244Z",
     "iopub.status.busy": "2025-01-16T14:54:57.584089Z",
     "iopub.status.idle": "2025-01-16T14:54:57.636745Z",
     "shell.execute_reply": "2025-01-16T14:54:57.636321Z"
    }
   },
   "outputs": [],
   "source": [
    "import numpy as np\n",
    "\n",
    "data = (\n",
    "    np.random.normal(size=(100, 3)) * np.array([[1, 1, 1]]) + np.array([[48, 5, 1]])\n",
    ").tolist()"
   ]
  },
  {
   "cell_type": "code",
   "execution_count": 2,
   "id": "16e5b7c1",
   "metadata": {
    "execution": {
     "iopub.execute_input": "2025-01-16T14:54:57.638766Z",
     "iopub.status.busy": "2025-01-16T14:54:57.638553Z",
     "iopub.status.idle": "2025-01-16T14:54:58.071381Z",
     "shell.execute_reply": "2025-01-16T14:54:58.070887Z"
    }
   },
   "outputs": [
    {
     "data": {
      "text/html": [
       "<div style=\"width:100%;\"><div style=\"position:relative;width:100%;height:0;padding-bottom:60%;\"><span style=\"color:#565656\">Make this Notebook Trusted to load map: File -> Trust Notebook</span><iframe srcdoc=\"&lt;!DOCTYPE html&gt;\n",
       "&lt;html&gt;\n",
       "&lt;head&gt;\n",
       "    \n",
       "    &lt;meta http-equiv=&quot;content-type&quot; content=&quot;text/html; charset=UTF-8&quot; /&gt;\n",
       "    \n",
       "        &lt;script&gt;\n",
       "            L_NO_TOUCH = false;\n",
       "            L_DISABLE_3D = false;\n",
       "        &lt;/script&gt;\n",
       "    \n",
       "    &lt;style&gt;html, body {width: 100%;height: 100%;margin: 0;padding: 0;}&lt;/style&gt;\n",
       "    &lt;style&gt;#map {position:absolute;top:0;bottom:0;right:0;left:0;}&lt;/style&gt;\n",
       "    &lt;script src=&quot;https://cdn.jsdelivr.net/npm/leaflet@1.9.3/dist/leaflet.js&quot;&gt;&lt;/script&gt;\n",
       "    &lt;script src=&quot;https://code.jquery.com/jquery-3.7.1.min.js&quot;&gt;&lt;/script&gt;\n",
       "    &lt;script src=&quot;https://cdn.jsdelivr.net/npm/bootstrap@5.2.2/dist/js/bootstrap.bundle.min.js&quot;&gt;&lt;/script&gt;\n",
       "    &lt;script src=&quot;https://cdnjs.cloudflare.com/ajax/libs/Leaflet.awesome-markers/2.0.2/leaflet.awesome-markers.js&quot;&gt;&lt;/script&gt;\n",
       "    &lt;link rel=&quot;stylesheet&quot; href=&quot;https://cdn.jsdelivr.net/npm/leaflet@1.9.3/dist/leaflet.css&quot;/&gt;\n",
       "    &lt;link rel=&quot;stylesheet&quot; href=&quot;https://cdn.jsdelivr.net/npm/bootstrap@5.2.2/dist/css/bootstrap.min.css&quot;/&gt;\n",
       "    &lt;link rel=&quot;stylesheet&quot; href=&quot;https://netdna.bootstrapcdn.com/bootstrap/3.0.0/css/bootstrap-glyphicons.css&quot;/&gt;\n",
       "    &lt;link rel=&quot;stylesheet&quot; href=&quot;https://cdn.jsdelivr.net/npm/@fortawesome/fontawesome-free@6.2.0/css/all.min.css&quot;/&gt;\n",
       "    &lt;link rel=&quot;stylesheet&quot; href=&quot;https://cdnjs.cloudflare.com/ajax/libs/Leaflet.awesome-markers/2.0.2/leaflet.awesome-markers.css&quot;/&gt;\n",
       "    &lt;link rel=&quot;stylesheet&quot; href=&quot;https://cdn.jsdelivr.net/gh/python-visualization/folium/folium/templates/leaflet.awesome.rotate.min.css&quot;/&gt;\n",
       "    \n",
       "            &lt;meta name=&quot;viewport&quot; content=&quot;width=device-width,\n",
       "                initial-scale=1.0, maximum-scale=1.0, user-scalable=no&quot; /&gt;\n",
       "            &lt;style&gt;\n",
       "                #map_56fbf6aa9b01ac769e1dabc6bffca296 {\n",
       "                    position: relative;\n",
       "                    width: 100.0%;\n",
       "                    height: 100.0%;\n",
       "                    left: 0.0%;\n",
       "                    top: 0.0%;\n",
       "                }\n",
       "                .leaflet-container { font-size: 1rem; }\n",
       "            &lt;/style&gt;\n",
       "        \n",
       "    &lt;script src=&quot;https://cdn.jsdelivr.net/gh/python-visualization/folium@main/folium/templates/leaflet_heat.min.js&quot;&gt;&lt;/script&gt;\n",
       "&lt;/head&gt;\n",
       "&lt;body&gt;\n",
       "    \n",
       "    \n",
       "            &lt;div class=&quot;folium-map&quot; id=&quot;map_56fbf6aa9b01ac769e1dabc6bffca296&quot; &gt;&lt;/div&gt;\n",
       "        \n",
       "&lt;/body&gt;\n",
       "&lt;script&gt;\n",
       "    \n",
       "    \n",
       "            var map_56fbf6aa9b01ac769e1dabc6bffca296 = L.map(\n",
       "                &quot;map_56fbf6aa9b01ac769e1dabc6bffca296&quot;,\n",
       "                {\n",
       "                    center: [48.0, 5.0],\n",
       "                    crs: L.CRS.EPSG3857,\n",
       "                    ...{\n",
       "  &quot;zoom&quot;: 6,\n",
       "  &quot;zoomControl&quot;: true,\n",
       "  &quot;preferCanvas&quot;: false,\n",
       "}\n",
       "\n",
       "                }\n",
       "            );\n",
       "\n",
       "            \n",
       "\n",
       "        \n",
       "    \n",
       "            var tile_layer_aaa45364c97d508f8654a5606a651d58 = L.tileLayer(\n",
       "                &quot;https://tile.openstreetmap.org/{z}/{x}/{y}.png&quot;,\n",
       "                {\n",
       "  &quot;minZoom&quot;: 0,\n",
       "  &quot;maxZoom&quot;: 19,\n",
       "  &quot;maxNativeZoom&quot;: 19,\n",
       "  &quot;noWrap&quot;: false,\n",
       "  &quot;attribution&quot;: &quot;\\u0026copy; \\u003ca href=\\&quot;https://www.openstreetmap.org/copyright\\&quot;\\u003eOpenStreetMap\\u003c/a\\u003e contributors&quot;,\n",
       "  &quot;subdomains&quot;: &quot;abc&quot;,\n",
       "  &quot;detectRetina&quot;: false,\n",
       "  &quot;tms&quot;: false,\n",
       "  &quot;opacity&quot;: 1,\n",
       "}\n",
       "\n",
       "            );\n",
       "        \n",
       "    \n",
       "            tile_layer_aaa45364c97d508f8654a5606a651d58.addTo(map_56fbf6aa9b01ac769e1dabc6bffca296);\n",
       "        \n",
       "    \n",
       "            var heat_map_fbc9fd1b64ad9cebc80a050194ec77e1 = L.heatLayer(\n",
       "                [[47.41931528077192, 4.333749631304122, 0.09462381016971311], [49.634032764718775, 4.584978116535799, 1.7960231515606966], [46.689136847326594, 4.836330631843008, 1.2823486696267432], [47.45342609566926, 6.663863326104264, 1.6184882853650762], [47.97052009038195, 7.007134706555168, 2.5820086196874805], [48.74291367753556, 4.084229930058997, 0.649867352773378], [47.00827937447636, 5.143733823488248, 1.5733035636304178], [48.09397037881719, 3.9114955119868786, 0.7422562992962474], [47.71932587325493, 5.972518207645383, -2.1213690946161736], [48.96854308659998, 5.087049344149652, -0.05028907347016465], [48.48928873005216, 5.177662425297993, 0.4470895744997416], [48.15981820612077, 5.250055358615557, 0.0030409478324737726], [48.74024100641208, 3.7021197700637796, 2.2009015388070967], [49.84727450256095, 4.260352208786361, 2.759835457824512], [44.59610445537665, 3.7211916420940447, 1.976381192517255], [48.68175050417196, 5.778490060741492, -0.5578074748413271], [46.2011606919365, 4.133684661206531, 2.1073484716079176], [47.90899057777835, 6.236265350533797, -0.12218256637418401], [48.19187159696386, 4.956098010946642, 0.6555963557634361], [46.72241442733622, 3.322844056544881, 0.6077709099551569], [47.551659318905, 5.684151093094657, 1.5140975283189655], [47.39523301978284, 6.277506288700301, 0.8107276760653291], [49.095610947001475, 5.962656021328181, 1.1687273965115996], [49.40428571255893, 5.491114795419501, 0.9617577643975523], [49.04001676094667, 4.353759106745749, 1.1681485191832321], [47.796570961104166, 4.593713777648039, 0.3788577053673875], [48.535912102710085, 5.03973106773467, 1.7692508449844977], [49.17303238215233, 4.894419813683147, -0.06432942443595357], [48.361212418278754, 4.098522207961184, 1.916188874396152], [48.98472393950681, 4.945471581780984, 1.8120077067593803], [48.1243348491969, 4.886369705312762, 1.5667126653710592], [47.768450896626874, 4.8078458216751185, 1.1317152874311764], [48.06502919196361, 3.612584747200846, 0.9282709175230388], [47.5580727701771, 4.478627102765865, 2.572522319395465], [49.86279195720699, 5.112762267707717, 2.3457631213214816], [48.31383562382854, 4.9568970452713685, 1.9689631884860597], [47.898122174695104, 4.80177514413167, 1.3075950091269215], [47.80194421112659, 3.921903035054852, 1.4920760293169706], [47.8984517570722, 3.1810545043891847, 1.2297410457520963], [47.91826461752602, 4.987693424864374, 0.5901617143151516], [48.42531367672694, 4.730910628820087, 1.4179581548644153], [47.05612157175399, 5.09179315788231, 0.6590812261966037], [46.78706250069022, 4.648764804143638, -0.7404114361222787], [47.19389814925353, 5.385560613004874, 2.8036760186215153], [48.25242391354613, 5.464752547031558, 0.827430652716483], [46.57879339870229, 5.879992384474495, 1.094497743796904], [47.86120216556161, 4.798032845493103, 2.771721075408082], [48.733471445304, 4.047509360083803, 0.5790502751770183], [48.5524487412489, 5.176310661303648, 0.9149971244094247], [47.55171875458343, 5.423337144210503, 0.4441852754239931], [47.39796912062712, 5.0547740097406235, 2.3858842895906274], [47.94403536364891, 4.615299894191912, 2.049546467131629], [48.49594149721559, 4.713198343533685, 2.0894844309428366], [46.87557680224945, 7.0135600407344025, -1.1180802539699792], [47.09199946861611, 4.007818456352685, 0.553859319999434], [46.199328372930125, 3.785505341009058, 0.6709511770912071], [46.837295235378924, 4.946738921748879, 3.390498725006729], [46.803134496153476, 5.943097057595593, 1.937554584624456], [46.77053116462991, 5.827276219787688, 2.4754915476571795], [46.35667672662581, 5.337274294901894, 1.5587858756219415], [47.827787603423346, 4.689747313843307, -0.25938139709879215], [47.560150864195805, 6.844649193531836, 0.5060859586202542], [48.185663003179236, 4.446545167404058, 0.3862624615426651], [47.50890510806518, 5.356378991589778, 0.9277116479912048], [49.603549170196885, 5.608739912479174, -0.25687776351748837], [47.758143428748085, 4.399314694227316, 2.737597650750448], [48.752235025275915, 4.758769462744272, 1.3166221026696177], [48.414026397705776, 4.563448014557093, 1.0874348992244203], [47.19918643297378, 3.738690389490112, 0.9850242958530283], [45.85333016320385, 6.000882052699437, 0.19829144759596418], [47.63793451586905, 4.356612827624144, 1.245537455029864], [47.81141940807905, 5.968535092033752, 3.846451613746805], [48.41760359369637, 5.269619204654343, 2.1327297195336397], [48.25490037835795, 5.527936860450598, 0.8622287727385982], [47.59110255929791, 6.3777859904362835, 0.12327803789087743], [47.70024683947323, 3.423021194491311, 1.655604929281071], [47.83928267009302, 5.888735714921744, 1.8578050193049584], [46.61610191719417, 3.9934219945272273, 1.5495414551428557], [47.73097588812143, 3.2404131756330212, 1.6420964646305514], [47.15874297820107, 4.666831182362192, 1.3602837290275909], [47.52222807646367, 5.77915286352496, 1.4388207006218585], [47.03331886090778, 6.4299814910233675, 1.0511087741032412], [47.952575800463066, 3.9264924771943077, 1.353838307983303], [46.87413952349927, 7.0170471483796035, -0.16311116497500722], [50.229087823044246, 4.189506587137002, -0.3124854124027825], [48.55519595824647, 4.397579044007115, 2.0639716389833187], [47.0543884604285, 5.082955410665901, 1.562351793801807], [49.00570201358536, 6.016450204973349, 2.6692779726844478], [47.43868718815874, 5.123913664228293, 0.6279663382087852], [48.18155899617497, 3.7641071687399497, 0.37026625546574166], [49.182481245726976, 4.812420881348633, -0.7590568265584108], [48.901973663581884, 5.596692625111348, 0.5507521907368824], [49.557253462414344, 5.758116385667624, 0.9281724885332793], [45.87408619460425, 6.459366582447027, -0.09725691037897755], [47.19905049432172, 5.636129288335671, 1.4912234185179805], [47.64651180322046, 7.282125874634777, 0.37488205376343464], [48.667619966770616, 5.715472020587323, 2.2859907591912147], [49.91499287581688, 4.2789884137256795, 2.516349730706207], [46.732001025627675, 5.166050934689306, 2.2832965664059106], [48.99292708515203, 3.585055216010544, 2.477604687873728]],\n",
       "                {\n",
       "  &quot;minOpacity&quot;: 0.5,\n",
       "  &quot;maxZoom&quot;: 18,\n",
       "  &quot;radius&quot;: 25,\n",
       "  &quot;blur&quot;: 15,\n",
       "}\n",
       "            );\n",
       "        \n",
       "    \n",
       "            heat_map_fbc9fd1b64ad9cebc80a050194ec77e1.addTo(map_56fbf6aa9b01ac769e1dabc6bffca296);\n",
       "        \n",
       "&lt;/script&gt;\n",
       "&lt;/html&gt;\" style=\"position:absolute;width:100%;height:100%;left:0;top:0;border:none !important;\" allowfullscreen webkitallowfullscreen mozallowfullscreen></iframe></div></div>"
      ],
      "text/plain": [
       "<folium.folium.Map at 0x7ff810380d70>"
      ]
     },
     "execution_count": 2,
     "metadata": {},
     "output_type": "execute_result"
    }
   ],
   "source": [
    "import folium\n",
    "from folium.plugins import HeatMap\n",
    "\n",
    "m = folium.Map([48.0, 5.0], zoom_start=6)\n",
    "\n",
    "HeatMap(data).add_to(m)\n",
    "\n",
    "m"
   ]
  }
 ],
 "metadata": {
  "jupytext": {
   "text_representation": {
    "extension": ".mystnb",
    "format_name": "myst"
   }
  },
  "language_info": {
   "codemirror_mode": {
    "name": "ipython",
    "version": 3
   },
   "file_extension": ".py",
   "mimetype": "text/x-python",
   "name": "python",
   "nbconvert_exporter": "python",
   "pygments_lexer": "ipython3",
   "version": "3.12.8"
  }
 },
 "nbformat": 4,
 "nbformat_minor": 5
}
