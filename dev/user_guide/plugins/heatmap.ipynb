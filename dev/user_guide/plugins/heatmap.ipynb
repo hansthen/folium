{
 "cells": [
  {
   "cell_type": "markdown",
   "id": "d4bacd9d",
   "metadata": {},
   "source": [
    "## Heatmap"
   ]
  },
  {
   "cell_type": "code",
   "execution_count": 1,
   "id": "55c5d8d6",
   "metadata": {
    "execution": {
     "iopub.execute_input": "2025-05-13T13:27:10.753852Z",
     "iopub.status.busy": "2025-05-13T13:27:10.753691Z",
     "iopub.status.idle": "2025-05-13T13:27:10.808769Z",
     "shell.execute_reply": "2025-05-13T13:27:10.808345Z"
    }
   },
   "outputs": [],
   "source": [
    "import numpy as np\n",
    "\n",
    "data = (\n",
    "    np.random.normal(size=(100, 3)) * np.array([[1, 1, 1]]) + np.array([[48, 5, 1]])\n",
    ").tolist()"
   ]
  },
  {
   "cell_type": "code",
   "execution_count": 2,
   "id": "a6bf2f61",
   "metadata": {
    "execution": {
     "iopub.execute_input": "2025-05-13T13:27:10.810811Z",
     "iopub.status.busy": "2025-05-13T13:27:10.810598Z",
     "iopub.status.idle": "2025-05-13T13:27:11.252811Z",
     "shell.execute_reply": "2025-05-13T13:27:11.252290Z"
    }
   },
   "outputs": [
    {
     "data": {
      "text/html": [
       "<div style=\"width:100%;\"><div style=\"position:relative;width:100%;height:0;padding-bottom:60%;\"><span style=\"color:#565656\">Make this Notebook Trusted to load map: File -> Trust Notebook</span><iframe srcdoc=\"&lt;!DOCTYPE html&gt;\n",
       "&lt;html&gt;\n",
       "&lt;head&gt;\n",
       "    \n",
       "    &lt;meta http-equiv=&quot;content-type&quot; content=&quot;text/html; charset=UTF-8&quot; /&gt;\n",
       "    &lt;script src=&quot;https://cdn.jsdelivr.net/npm/leaflet@1.9.3/dist/leaflet.js&quot;&gt;&lt;/script&gt;\n",
       "    &lt;script src=&quot;https://code.jquery.com/jquery-3.7.1.min.js&quot;&gt;&lt;/script&gt;\n",
       "    &lt;script src=&quot;https://cdn.jsdelivr.net/npm/bootstrap@5.2.2/dist/js/bootstrap.bundle.min.js&quot;&gt;&lt;/script&gt;\n",
       "    &lt;script src=&quot;https://cdnjs.cloudflare.com/ajax/libs/Leaflet.awesome-markers/2.0.2/leaflet.awesome-markers.js&quot;&gt;&lt;/script&gt;\n",
       "    &lt;link rel=&quot;stylesheet&quot; href=&quot;https://cdn.jsdelivr.net/npm/leaflet@1.9.3/dist/leaflet.css&quot;/&gt;\n",
       "    &lt;link rel=&quot;stylesheet&quot; href=&quot;https://cdn.jsdelivr.net/npm/bootstrap@5.2.2/dist/css/bootstrap.min.css&quot;/&gt;\n",
       "    &lt;link rel=&quot;stylesheet&quot; href=&quot;https://netdna.bootstrapcdn.com/bootstrap/3.0.0/css/bootstrap-glyphicons.css&quot;/&gt;\n",
       "    &lt;link rel=&quot;stylesheet&quot; href=&quot;https://cdn.jsdelivr.net/npm/@fortawesome/fontawesome-free@6.2.0/css/all.min.css&quot;/&gt;\n",
       "    &lt;link rel=&quot;stylesheet&quot; href=&quot;https://cdnjs.cloudflare.com/ajax/libs/Leaflet.awesome-markers/2.0.2/leaflet.awesome-markers.css&quot;/&gt;\n",
       "    &lt;link rel=&quot;stylesheet&quot; href=&quot;https://cdn.jsdelivr.net/gh/python-visualization/folium/folium/templates/leaflet.awesome.rotate.min.css&quot;/&gt;\n",
       "    \n",
       "            &lt;meta name=&quot;viewport&quot; content=&quot;width=device-width,\n",
       "                initial-scale=1.0, maximum-scale=1.0, user-scalable=no&quot; /&gt;\n",
       "            &lt;style&gt;\n",
       "                #map_3d53a9bb2dbdccac5461a958bb430d84 {\n",
       "                    position: relative;\n",
       "                    width: 100.0%;\n",
       "                    height: 100.0%;\n",
       "                    left: 0.0%;\n",
       "                    top: 0.0%;\n",
       "                }\n",
       "                .leaflet-container { font-size: 1rem; }\n",
       "            &lt;/style&gt;\n",
       "\n",
       "            &lt;style&gt;html, body {\n",
       "                width: 100%;\n",
       "                height: 100%;\n",
       "                margin: 0;\n",
       "                padding: 0;\n",
       "            }\n",
       "            &lt;/style&gt;\n",
       "\n",
       "            &lt;style&gt;#map {\n",
       "                position:absolute;\n",
       "                top:0;\n",
       "                bottom:0;\n",
       "                right:0;\n",
       "                left:0;\n",
       "                }\n",
       "            &lt;/style&gt;\n",
       "\n",
       "            &lt;script&gt;\n",
       "                L_NO_TOUCH = false;\n",
       "                L_DISABLE_3D = false;\n",
       "            &lt;/script&gt;\n",
       "\n",
       "        \n",
       "    &lt;script src=&quot;https://cdn.jsdelivr.net/gh/python-visualization/folium@main/folium/templates/leaflet_heat.min.js&quot;&gt;&lt;/script&gt;\n",
       "&lt;/head&gt;\n",
       "&lt;body&gt;\n",
       "    \n",
       "    \n",
       "            &lt;div class=&quot;folium-map&quot; id=&quot;map_3d53a9bb2dbdccac5461a958bb430d84&quot; &gt;&lt;/div&gt;\n",
       "        \n",
       "&lt;/body&gt;\n",
       "&lt;script&gt;\n",
       "    \n",
       "    \n",
       "            var map_3d53a9bb2dbdccac5461a958bb430d84 = L.map(\n",
       "                &quot;map_3d53a9bb2dbdccac5461a958bb430d84&quot;,\n",
       "                {\n",
       "                    center: [48.0, 5.0],\n",
       "                    crs: L.CRS.EPSG3857,\n",
       "                    ...{\n",
       "  &quot;zoom&quot;: 6,\n",
       "  &quot;zoomControl&quot;: true,\n",
       "  &quot;preferCanvas&quot;: false,\n",
       "}\n",
       "\n",
       "                }\n",
       "            );\n",
       "\n",
       "            \n",
       "\n",
       "        \n",
       "    \n",
       "            var tile_layer_accd35cae21cbd1323d7d2edcd8e5c4f = L.tileLayer(\n",
       "                &quot;https://tile.openstreetmap.org/{z}/{x}/{y}.png&quot;,\n",
       "                {\n",
       "  &quot;minZoom&quot;: 0,\n",
       "  &quot;maxZoom&quot;: 19,\n",
       "  &quot;maxNativeZoom&quot;: 19,\n",
       "  &quot;noWrap&quot;: false,\n",
       "  &quot;attribution&quot;: &quot;\\u0026copy; \\u003ca href=\\&quot;https://www.openstreetmap.org/copyright\\&quot;\\u003eOpenStreetMap\\u003c/a\\u003e contributors&quot;,\n",
       "  &quot;subdomains&quot;: &quot;abc&quot;,\n",
       "  &quot;detectRetina&quot;: false,\n",
       "  &quot;tms&quot;: false,\n",
       "  &quot;opacity&quot;: 1,\n",
       "}\n",
       "\n",
       "            );\n",
       "        \n",
       "    \n",
       "            tile_layer_accd35cae21cbd1323d7d2edcd8e5c4f.addTo(map_3d53a9bb2dbdccac5461a958bb430d84);\n",
       "        \n",
       "    \n",
       "            var heat_map_d03ceb3f3eb640160a50af87f26f58b2 = L.heatLayer(\n",
       "                [[47.729097557552834, 5.588560483919068, -0.17762321634511302], [48.10412110113407, 6.7011867400929646, 1.2720907154103784], [48.43365007252643, 5.681619880473088, 0.709032832155936], [47.77515929303458, 5.581568452118012, 1.4500780774075412], [47.1564027056325, 5.43019253910803, 0.2276781823579671], [48.74391719623001, 5.2787668644754655, 1.1762196033524117], [47.02017500887003, 5.507906612272969, 1.3717936381812297], [48.07649757633565, 4.214036940837725, 0.9497366147472368], [49.84940395706379, 4.62939894319924, 2.0855652031538154], [47.769143502619634, 5.571699886639702, 0.7400910370538611], [49.35941431324342, 5.652962875379011, -0.8598425373120535], [47.06234957580901, 4.676228204502513, 1.3773985068741172], [48.918396586459316, 3.221431042191125, 0.9565797014350825], [49.06541027672145, 4.954190064141856, 2.8952231295103816], [48.02763065692357, 6.095706519423096, 1.0746472373662592], [47.42526307980328, 4.825973708363533, 0.4180229614775368], [46.4194575805772, 6.028206279745376, 1.1624826757660462], [48.17415844614159, 6.32433772611297, 3.3201263954626627], [48.54353453226965, 4.224349643877463, 1.1107306743525736], [47.60340799838112, 4.555609535684626, 2.4055628183906714], [46.45741783253709, 3.8452729530097045, 1.7310226017579269], [47.257421545723844, 4.801091319076215, 0.11560533069794798], [49.62638605096625, 5.65985169438203, -0.323430025579059], [47.6023093665015, 4.677242988318002, 0.3183540262105733], [47.59905760519018, 3.2107420881869433, 1.6883560684457501], [47.837920453747564, 4.324543213345443, 0.550782574656318], [46.928759021656106, 6.405049275304468, 1.9213085861559245], [48.11843241791581, 4.804642449785343, 0.2244923708074651], [49.68546029684266, 6.530284474617124, -0.14451308502241766], [47.313436717496344, 5.074521371012779, 0.7004390558253442], [48.39347479655872, 6.342395658758068, 3.4408203385570473], [49.1203188004811, 7.591402518826825, -1.3682028760427953], [46.59413502595924, 5.315545462617562, -0.44943568057869765], [48.7139991757509, 5.12585543730405, -0.5175704276975166], [46.009936909141544, 4.386385295351382, 0.13173532225129925], [48.21240894248782, 4.199307248017571, 3.439745698543763], [47.18248335323196, 6.273046422413269, 1.5460048163476772], [49.12213791201643, 5.508657264463313, 1.024012722953416], [48.179488188156355, 3.067547791170269, 1.8792977312708685], [47.512474305241476, 3.7616091800144837, 3.3004525612546662], [48.30116745092335, 4.7239920906049475, -0.03008628687707593], [46.39921552763223, 5.053021360600637, 1.8338332031595068], [48.47481217702411, 7.270331651253928, 0.26171205879178483], [47.47790834402443, 5.331369847397714, 2.0800701146046414], [46.81793224370918, 5.6206709848988865, 0.5706064518548029], [48.38578064861177, 6.701490292534704, 1.8170318052187755], [47.740993797001614, 5.6155730334630745, 0.7566616795284631], [48.964537591023195, 5.318540746493913, 0.5234137383342842], [48.90831927523027, 4.916561885635405, 3.104981429638321], [48.320159853981096, 4.83700455534862, -0.020156269604763022], [50.33346208774725, 5.672110890381093, 0.13653870403347523], [47.18180523864385, 3.3039595731309728, 2.3354084280315526], [48.517830685423824, 5.617470931050258, 1.467263703395622], [47.82559139278121, 4.852125249498673, 2.228452269726204], [46.83210463906135, 6.937071844160617, 0.24356419500296633], [47.234108673938, 3.939960732575928, 0.46641149586547803], [48.15936503914873, 3.8297696649887287, 1.4627828995910368], [47.488018404305656, 4.828365151130278, -0.7766520374680361], [48.16326262452337, 5.561505248539572, 0.0967104235770686], [48.92361869171036, 4.040672599087665, -0.046617805041917926], [47.51476955732883, 3.8151912718884473, 2.705453410512651], [47.52259799428309, 5.572958095929952, 0.9164072285138123], [49.51159376898861, 4.808069070966239, 0.8794143708226516], [47.17520725045959, 4.047867954327739, -0.18676215586326084], [48.21857817674154, 4.517088946785764, -0.7440403561358264], [47.582671234294736, 5.094910167956426, 1.8347113636405799], [47.92994052123198, 4.035197169483668, -0.3873697887166845], [48.51926441162782, 6.350818952179448, 0.33431823848476894], [48.498469962480485, 6.463237745483018, 0.6008922387879407], [47.97484682399471, 4.360311330936592, 0.310512021812416], [46.30619424232187, 6.198714508519228, -0.010359161345036227], [48.20688671563084, 4.064634971080751, 1.0606663839383672], [48.300325594681645, 6.301088947808739, 2.015294444426387], [47.67808249788357, 5.283861155141104, 1.1843660878919011], [46.37869854681749, 5.970451057506862, 0.4573151149922178], [46.41737410183691, 5.141818622936205, 0.36656165657650397], [47.58893460318721, 4.41636492474759, 3.278291627127819], [49.209610918048035, 5.536841640970055, 2.1750904547866368], [48.28705651916303, 4.34535124346065, 2.6207931296687006], [48.199074933583226, 6.733994698608771, 0.1253582977173313], [47.292429012736946, 5.4021825481345696, -0.2647076458272315], [47.726229145829166, 7.076186832434633, 2.3566256197735225], [46.94967958987139, 4.94363430854207, 1.8105011573329288], [48.25632003058515, 5.221245490712308, 1.7243765814192784], [47.622012034257274, 5.016343556061876, 0.7636984455681647], [48.41462435118362, 4.1804714817053386, 2.943324993098904], [48.58494345331755, 5.081330506004692, 0.7181810267748749], [47.18751046298767, 4.978327606680742, 0.46493872656596036], [50.08478645661818, 4.989068491606899, 1.0546363114972641], [48.35059484395612, 5.195378655525133, 1.191167745925352], [48.87863826867732, 4.6219829146619755, -0.12847758845934076], [46.36645131110992, 4.684358607167074, 1.2024160308224119], [45.91089978743249, 3.3698685459691045, 1.2158546511928954], [47.67573574672187, 3.6152420342795066, 1.564193609447733], [48.31372460490355, 4.0112453430484445, 2.1419076321518817], [47.590002915151544, 4.452137466179832, 2.694138667404264], [46.9380010399583, 7.240907460067321, 2.066352996192805], [47.01870277119844, 4.416081716979632, 0.13172708117837817], [47.4453287622597, 4.5793376976026225, 0.8853747834934624], [48.5151147775947, 3.234943684846746, 0.3198727687603474]],\n",
       "                {\n",
       "  &quot;minOpacity&quot;: 0.5,\n",
       "  &quot;maxZoom&quot;: 18,\n",
       "  &quot;radius&quot;: 25,\n",
       "  &quot;blur&quot;: 15,\n",
       "}\n",
       "            );\n",
       "        \n",
       "    \n",
       "            heat_map_d03ceb3f3eb640160a50af87f26f58b2.addTo(map_3d53a9bb2dbdccac5461a958bb430d84);\n",
       "        \n",
       "&lt;/script&gt;\n",
       "&lt;/html&gt;\" style=\"position:absolute;width:100%;height:100%;left:0;top:0;border:none !important;\" allowfullscreen webkitallowfullscreen mozallowfullscreen></iframe></div></div>"
      ],
      "text/plain": [
       "<folium.folium.Map at 0x7fe4bc209130>"
      ]
     },
     "execution_count": 2,
     "metadata": {},
     "output_type": "execute_result"
    }
   ],
   "source": [
    "import folium\n",
    "from folium.plugins import HeatMap\n",
    "\n",
    "m = folium.Map([48.0, 5.0], zoom_start=6)\n",
    "\n",
    "HeatMap(data).add_to(m)\n",
    "\n",
    "m"
   ]
  }
 ],
 "metadata": {
  "jupytext": {
   "text_representation": {
    "extension": ".mystnb",
    "format_name": "myst"
   }
  },
  "language_info": {
   "codemirror_mode": {
    "name": "ipython",
    "version": 3
   },
   "file_extension": ".py",
   "mimetype": "text/x-python",
   "name": "python",
   "nbconvert_exporter": "python",
   "pygments_lexer": "ipython3",
   "version": "3.12.10"
  }
 },
 "nbformat": 4,
 "nbformat_minor": 5
}
