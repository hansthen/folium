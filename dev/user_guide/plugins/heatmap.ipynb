{
 "cells": [
  {
   "cell_type": "markdown",
   "id": "aa100a2b",
   "metadata": {},
   "source": [
    "## Heatmap"
   ]
  },
  {
   "cell_type": "code",
   "execution_count": 1,
   "id": "3f327b56",
   "metadata": {
    "execution": {
     "iopub.execute_input": "2025-06-07T13:20:26.264579Z",
     "iopub.status.busy": "2025-06-07T13:20:26.264410Z",
     "iopub.status.idle": "2025-06-07T13:20:26.319642Z",
     "shell.execute_reply": "2025-06-07T13:20:26.319203Z"
    }
   },
   "outputs": [],
   "source": [
    "import numpy as np\n",
    "\n",
    "data = (\n",
    "    np.random.normal(size=(100, 3)) * np.array([[1, 1, 1]]) + np.array([[48, 5, 1]])\n",
    ").tolist()"
   ]
  },
  {
   "cell_type": "code",
   "execution_count": 2,
   "id": "ee9ccb5a",
   "metadata": {
    "execution": {
     "iopub.execute_input": "2025-06-07T13:20:26.321662Z",
     "iopub.status.busy": "2025-06-07T13:20:26.321448Z",
     "iopub.status.idle": "2025-06-07T13:20:26.765865Z",
     "shell.execute_reply": "2025-06-07T13:20:26.765371Z"
    }
   },
   "outputs": [
    {
     "data": {
      "text/html": [
       "<div style=\"width:100%;\"><div style=\"position:relative;width:100%;height:0;padding-bottom:60%;\"><span style=\"color:#565656\">Make this Notebook Trusted to load map: File -> Trust Notebook</span><iframe srcdoc=\"&lt;!DOCTYPE html&gt;\n",
       "&lt;html&gt;\n",
       "&lt;head&gt;\n",
       "    \n",
       "    &lt;meta http-equiv=&quot;content-type&quot; content=&quot;text/html; charset=UTF-8&quot; /&gt;\n",
       "    &lt;script src=&quot;https://cdn.jsdelivr.net/npm/leaflet@1.9.3/dist/leaflet.js&quot;&gt;&lt;/script&gt;\n",
       "    &lt;script src=&quot;https://code.jquery.com/jquery-3.7.1.min.js&quot;&gt;&lt;/script&gt;\n",
       "    &lt;script src=&quot;https://cdn.jsdelivr.net/npm/bootstrap@5.2.2/dist/js/bootstrap.bundle.min.js&quot;&gt;&lt;/script&gt;\n",
       "    &lt;script src=&quot;https://cdnjs.cloudflare.com/ajax/libs/Leaflet.awesome-markers/2.0.2/leaflet.awesome-markers.js&quot;&gt;&lt;/script&gt;\n",
       "    &lt;link rel=&quot;stylesheet&quot; href=&quot;https://cdn.jsdelivr.net/npm/leaflet@1.9.3/dist/leaflet.css&quot;/&gt;\n",
       "    &lt;link rel=&quot;stylesheet&quot; href=&quot;https://cdn.jsdelivr.net/npm/bootstrap@5.2.2/dist/css/bootstrap.min.css&quot;/&gt;\n",
       "    &lt;link rel=&quot;stylesheet&quot; href=&quot;https://netdna.bootstrapcdn.com/bootstrap/3.0.0/css/bootstrap-glyphicons.css&quot;/&gt;\n",
       "    &lt;link rel=&quot;stylesheet&quot; href=&quot;https://cdn.jsdelivr.net/npm/@fortawesome/fontawesome-free@6.2.0/css/all.min.css&quot;/&gt;\n",
       "    &lt;link rel=&quot;stylesheet&quot; href=&quot;https://cdnjs.cloudflare.com/ajax/libs/Leaflet.awesome-markers/2.0.2/leaflet.awesome-markers.css&quot;/&gt;\n",
       "    &lt;link rel=&quot;stylesheet&quot; href=&quot;https://cdn.jsdelivr.net/gh/python-visualization/folium/folium/templates/leaflet.awesome.rotate.min.css&quot;/&gt;\n",
       "    \n",
       "            &lt;meta name=&quot;viewport&quot; content=&quot;width=device-width,\n",
       "                initial-scale=1.0, maximum-scale=1.0, user-scalable=no&quot; /&gt;\n",
       "            &lt;style&gt;\n",
       "                #map_cbfd0fa9bf26e214db32dae2cedae45e {\n",
       "                    position: relative;\n",
       "                    width: 100.0%;\n",
       "                    height: 100.0%;\n",
       "                    left: 0.0%;\n",
       "                    top: 0.0%;\n",
       "                }\n",
       "                .leaflet-container { font-size: 1rem; }\n",
       "            &lt;/style&gt;\n",
       "\n",
       "            &lt;style&gt;html, body {\n",
       "                width: 100%;\n",
       "                height: 100%;\n",
       "                margin: 0;\n",
       "                padding: 0;\n",
       "            }\n",
       "            &lt;/style&gt;\n",
       "\n",
       "            &lt;style&gt;#map {\n",
       "                position:absolute;\n",
       "                top:0;\n",
       "                bottom:0;\n",
       "                right:0;\n",
       "                left:0;\n",
       "                }\n",
       "            &lt;/style&gt;\n",
       "\n",
       "            &lt;script&gt;\n",
       "                L_NO_TOUCH = false;\n",
       "                L_DISABLE_3D = false;\n",
       "            &lt;/script&gt;\n",
       "\n",
       "        \n",
       "    &lt;script src=&quot;https://cdn.jsdelivr.net/gh/python-visualization/folium@main/folium/templates/leaflet_heat.min.js&quot;&gt;&lt;/script&gt;\n",
       "&lt;/head&gt;\n",
       "&lt;body&gt;\n",
       "    \n",
       "    \n",
       "            &lt;div class=&quot;folium-map&quot; id=&quot;map_cbfd0fa9bf26e214db32dae2cedae45e&quot; &gt;&lt;/div&gt;\n",
       "        \n",
       "&lt;/body&gt;\n",
       "&lt;script&gt;\n",
       "    \n",
       "    \n",
       "            var map_cbfd0fa9bf26e214db32dae2cedae45e = L.map(\n",
       "                &quot;map_cbfd0fa9bf26e214db32dae2cedae45e&quot;,\n",
       "                {\n",
       "                    center: [48.0, 5.0],\n",
       "                    crs: L.CRS.EPSG3857,\n",
       "                    ...{\n",
       "  &quot;zoom&quot;: 6,\n",
       "  &quot;zoomControl&quot;: true,\n",
       "  &quot;preferCanvas&quot;: false,\n",
       "}\n",
       "\n",
       "                }\n",
       "            );\n",
       "\n",
       "            \n",
       "\n",
       "        \n",
       "    \n",
       "            var tile_layer_1172331cf6d1732df58eed2b33fe09c4 = L.tileLayer(\n",
       "                &quot;https://tile.openstreetmap.org/{z}/{x}/{y}.png&quot;,\n",
       "                {\n",
       "  &quot;minZoom&quot;: 0,\n",
       "  &quot;maxZoom&quot;: 19,\n",
       "  &quot;maxNativeZoom&quot;: 19,\n",
       "  &quot;noWrap&quot;: false,\n",
       "  &quot;attribution&quot;: &quot;\\u0026copy; \\u003ca href=\\&quot;https://www.openstreetmap.org/copyright\\&quot;\\u003eOpenStreetMap\\u003c/a\\u003e contributors&quot;,\n",
       "  &quot;subdomains&quot;: &quot;abc&quot;,\n",
       "  &quot;detectRetina&quot;: false,\n",
       "  &quot;tms&quot;: false,\n",
       "  &quot;opacity&quot;: 1,\n",
       "}\n",
       "\n",
       "            );\n",
       "        \n",
       "    \n",
       "            tile_layer_1172331cf6d1732df58eed2b33fe09c4.addTo(map_cbfd0fa9bf26e214db32dae2cedae45e);\n",
       "        \n",
       "    \n",
       "            var heat_map_982230f91daa23632a75e81196b25c69 = L.heatLayer(\n",
       "                [[47.05452656566308, 5.707857111984295, 0.8340440874712651], [46.514987546667385, 6.0205837913765565, 3.3742970859404062], [48.51233516880321, 5.74099917339255, 0.09852807765710803], [48.01464943205226, 4.623677755945699, 0.8897943814982353], [47.533764654551064, 4.406601775658646, -1.4751727541944573], [49.17947814748408, 5.4654029993524444, 1.2201871913082285], [48.11663684280078, 5.012759281787951, -0.8837561821656055], [48.58960607708898, 3.9521505045776886, 1.1997131583615848], [47.831008345502774, 5.078811319159133, 0.7287860052639366], [47.49162442958425, 5.619631606042108, 0.8058133307520565], [46.3955308869467, 4.493726285801456, 0.8295745636537006], [47.967088258145964, 4.797791700734461, 0.1714288809254213], [46.67472500635733, 5.77145363105694, 2.2254993886161296], [48.204324191420284, 5.068065251231646, -0.3762665966063494], [48.35348753286261, 3.681847571568826, 1.2205248031730054], [47.0417698400589, 5.3215752900680915, 1.5404870578744325], [48.91522560591601, 5.610348741613574, 0.7989821644779458], [45.990567131440855, 5.555508256515702, 1.5079881933467016], [49.229695554065316, 4.93869243994471, 2.3259967890850985], [48.24571878685312, 5.225017610833232, -0.8201997119290358], [48.18308103092059, 2.617033969027382, 2.2089934966906286], [46.34575239528384, 5.864917836843755, 1.3088056499163732], [45.708872677277824, 4.4432340831056045, 0.12668746857398616], [47.20113028195882, 5.820982813177252, 0.8520008648012825], [46.99940614843454, 5.716750200254722, -0.15699800691890342], [47.32454446118871, 5.54180299670084, 1.1655440617737078], [47.98917429151364, 5.016404689980964, 1.7747377727945224], [47.351001614614965, 6.853379797441102, 0.6725278414179972], [48.9455422050652, 4.624408944585186, 0.43166776110431115], [49.33334757947868, 6.400197305587758, -0.831402362951192], [47.61870428081574, 4.511078625287637, 2.2319816894701057], [48.360206594975374, 4.147323316351652, 0.34049488266042727], [48.68999025436934, 5.582905472853703, 0.2796742971586116], [47.194202611408876, 3.778280073794455, 2.2073274916075243], [47.66808749890777, 6.333194266112396, -0.39210120844834906], [48.2274270431182, 4.525051491401509, 3.501238023567086], [48.38713335797783, 5.4313655503675715, 1.1247249372407886], [50.285663004781576, 6.38281040359471, 1.5651148658951084], [48.42686743754771, 3.9967773892435554, 1.360438574322369], [47.59560950294887, 4.159789284654149, 1.165782993481078], [48.68005176216461, 6.900429738103943, 1.6956867692050617], [46.082294751895944, 2.606546754894045, 0.9994652330256614], [46.965745948503454, 5.416831529495277, 0.6030744165173669], [49.47729133476206, 6.936110255013103, 1.2070780599454007], [47.83912111072704, 4.307776133145963, 1.5657646755672103], [48.196296971250135, 4.959454223612567, 1.5327622549348006], [47.09327406581981, 4.622709114439867, 1.4495261610175132], [48.54959684159196, 5.722419440206972, 2.151058253842641], [47.613887683946025, 5.342723725375512, 2.7508200601963573], [48.23580564609451, 3.794598485185862, 0.05908857509999199], [46.78893721507039, 5.139529251123565, -0.695760727865514], [47.639131342605154, 3.2764024902034374, -0.3238483775259877], [48.2750033267671, 4.518753533762597, 0.47795134475835654], [45.493330295642345, 3.0286899978259356, 2.927881236507056], [49.568093797034734, 4.913719839061596, 1.049415239413974], [46.449205504189884, 5.301805343159216, 0.9031048298184333], [47.12697903178377, 4.105230382384361, 0.26191574845193744], [47.45107710963616, 3.414134177056745, -0.17235680284634758], [46.5804728663327, 6.193941303011224, 1.5307241067942214], [48.86686417225829, 2.7918783977556236, -0.3969821975194321], [47.12215650232329, 6.4589841078844845, 2.30890434177065], [46.363369765069656, 5.106498169300294, 2.2444004810733773], [46.365465204233054, 4.663210135519442, 1.5801295917123848], [47.55992428971023, 4.3142742292484755, -0.051819038761387715], [47.794329840035665, 5.403502861338248, 0.32334177264438724], [47.99228485719958, 5.942772137288957, 0.9997221580654859], [46.523466130469146, 3.5203289228760646, 1.0307097665269034], [47.727673917526104, 4.331182585546546, 0.4195514813059188], [49.01915471695307, 5.312970082953962, 1.835054288087709], [46.532471717067935, 3.7442488258277944, 1.1334105194228357], [46.42864301782987, 4.914409299469248, 1.2372435504968864], [49.389822145752376, 7.251145669570844, 2.2791246446314286], [48.207446398009566, 3.382692512690028, 1.123443514308007], [46.22271263128441, 4.650533199630001, 1.8708235487936076], [47.47622854178551, 5.294960103656175, 0.43726503436661546], [49.97112498529767, 5.619830279364722, 1.7368630902716387], [48.13571790519401, 5.469480870687352, 1.946478069996033], [46.39002728861392, 4.0752247199263785, -2.0973338379160444], [47.79263074667172, 4.911230173012592, -1.3018595131086048], [48.61706232542696, 6.509380297442492, 1.7252892180276407], [49.971385652412195, 5.775316604992755, 0.8867903683149224], [48.07856533973618, 4.069419646941917, 0.7066426922404422], [47.57202281883571, 4.882902885565899, 0.895594018193943], [48.84658260683554, 5.284345310472539, 1.004771034435774], [48.10094211722333, 5.019638536089182, 1.786120957883328], [50.09700185139061, 6.835729578453236, -0.49844331881000525], [48.1318029946695, 4.95779745110995, -0.4686192153573341], [47.480818533680115, 4.060803518248628, 1.319118679140566], [48.04387571900424, 6.070442967850443, 1.4777779285872226], [48.93578393550504, 5.795282243843636, 0.44413168099242484], [47.9525747348359, 4.822581276805476, 1.3471943950991516], [47.0151201348777, 5.619457432801787, 1.398779384906585], [50.053161878208634, 5.915770834967308, 4.264496413324592], [47.685050502589654, 5.277932208626685, 0.5248185465357367], [47.911840317371926, 3.2502678745138436, 1.4752629847496816], [49.263844133898054, 4.302577069357235, 1.027386343302579], [48.269815732817655, 5.808127316086007, 1.9192427660815516], [48.35917097670106, 6.951211851613524, 1.2836735338918353], [48.29454298489081, 5.029482177830984, 1.786965251375549], [47.30036733654199, 5.870603789501589, 0.3501802894952124]],\n",
       "                {\n",
       "  &quot;minOpacity&quot;: 0.5,\n",
       "  &quot;maxZoom&quot;: 18,\n",
       "  &quot;radius&quot;: 25,\n",
       "  &quot;blur&quot;: 15,\n",
       "}\n",
       "            );\n",
       "        \n",
       "    \n",
       "            heat_map_982230f91daa23632a75e81196b25c69.addTo(map_cbfd0fa9bf26e214db32dae2cedae45e);\n",
       "        \n",
       "&lt;/script&gt;\n",
       "&lt;/html&gt;\" style=\"position:absolute;width:100%;height:100%;left:0;top:0;border:none !important;\" allowfullscreen webkitallowfullscreen mozallowfullscreen></iframe></div></div>"
      ],
      "text/plain": [
       "<folium.folium.Map at 0x7f1d7645dc40>"
      ]
     },
     "execution_count": 2,
     "metadata": {},
     "output_type": "execute_result"
    }
   ],
   "source": [
    "import folium\n",
    "from folium.plugins import HeatMap\n",
    "\n",
    "m = folium.Map([48.0, 5.0], zoom_start=6)\n",
    "\n",
    "HeatMap(data).add_to(m)\n",
    "\n",
    "m"
   ]
  }
 ],
 "metadata": {
  "jupytext": {
   "text_representation": {
    "extension": ".mystnb",
    "format_name": "myst"
   }
  },
  "language_info": {
   "codemirror_mode": {
    "name": "ipython",
    "version": 3
   },
   "file_extension": ".py",
   "mimetype": "text/x-python",
   "name": "python",
   "nbconvert_exporter": "python",
   "pygments_lexer": "ipython3",
   "version": "3.12.11"
  }
 },
 "nbformat": 4,
 "nbformat_minor": 5
}
