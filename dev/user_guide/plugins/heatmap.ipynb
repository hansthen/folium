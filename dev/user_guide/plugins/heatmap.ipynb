{
 "cells": [
  {
   "cell_type": "markdown",
   "id": "65cef2f1",
   "metadata": {},
   "source": [
    "## Heatmap"
   ]
  },
  {
   "cell_type": "code",
   "execution_count": 1,
   "id": "a40292b4",
   "metadata": {
    "execution": {
     "iopub.execute_input": "2025-05-12T13:26:33.402050Z",
     "iopub.status.busy": "2025-05-12T13:26:33.401883Z",
     "iopub.status.idle": "2025-05-12T13:26:33.456940Z",
     "shell.execute_reply": "2025-05-12T13:26:33.456483Z"
    }
   },
   "outputs": [],
   "source": [
    "import numpy as np\n",
    "\n",
    "data = (\n",
    "    np.random.normal(size=(100, 3)) * np.array([[1, 1, 1]]) + np.array([[48, 5, 1]])\n",
    ").tolist()"
   ]
  },
  {
   "cell_type": "code",
   "execution_count": 2,
   "id": "3450c8b3",
   "metadata": {
    "execution": {
     "iopub.execute_input": "2025-05-12T13:26:33.458999Z",
     "iopub.status.busy": "2025-05-12T13:26:33.458782Z",
     "iopub.status.idle": "2025-05-12T13:26:33.899183Z",
     "shell.execute_reply": "2025-05-12T13:26:33.898665Z"
    }
   },
   "outputs": [
    {
     "data": {
      "text/html": [
       "<div style=\"width:100%;\"><div style=\"position:relative;width:100%;height:0;padding-bottom:60%;\"><span style=\"color:#565656\">Make this Notebook Trusted to load map: File -> Trust Notebook</span><iframe srcdoc=\"&lt;!DOCTYPE html&gt;\n",
       "&lt;html&gt;\n",
       "&lt;head&gt;\n",
       "    \n",
       "    &lt;meta http-equiv=&quot;content-type&quot; content=&quot;text/html; charset=UTF-8&quot; /&gt;\n",
       "    &lt;script src=&quot;https://cdn.jsdelivr.net/npm/leaflet@1.9.3/dist/leaflet.js&quot;&gt;&lt;/script&gt;\n",
       "    &lt;script src=&quot;https://code.jquery.com/jquery-3.7.1.min.js&quot;&gt;&lt;/script&gt;\n",
       "    &lt;script src=&quot;https://cdn.jsdelivr.net/npm/bootstrap@5.2.2/dist/js/bootstrap.bundle.min.js&quot;&gt;&lt;/script&gt;\n",
       "    &lt;script src=&quot;https://cdnjs.cloudflare.com/ajax/libs/Leaflet.awesome-markers/2.0.2/leaflet.awesome-markers.js&quot;&gt;&lt;/script&gt;\n",
       "    &lt;link rel=&quot;stylesheet&quot; href=&quot;https://cdn.jsdelivr.net/npm/leaflet@1.9.3/dist/leaflet.css&quot;/&gt;\n",
       "    &lt;link rel=&quot;stylesheet&quot; href=&quot;https://cdn.jsdelivr.net/npm/bootstrap@5.2.2/dist/css/bootstrap.min.css&quot;/&gt;\n",
       "    &lt;link rel=&quot;stylesheet&quot; href=&quot;https://netdna.bootstrapcdn.com/bootstrap/3.0.0/css/bootstrap-glyphicons.css&quot;/&gt;\n",
       "    &lt;link rel=&quot;stylesheet&quot; href=&quot;https://cdn.jsdelivr.net/npm/@fortawesome/fontawesome-free@6.2.0/css/all.min.css&quot;/&gt;\n",
       "    &lt;link rel=&quot;stylesheet&quot; href=&quot;https://cdnjs.cloudflare.com/ajax/libs/Leaflet.awesome-markers/2.0.2/leaflet.awesome-markers.css&quot;/&gt;\n",
       "    &lt;link rel=&quot;stylesheet&quot; href=&quot;https://cdn.jsdelivr.net/gh/python-visualization/folium/folium/templates/leaflet.awesome.rotate.min.css&quot;/&gt;\n",
       "    \n",
       "            &lt;meta name=&quot;viewport&quot; content=&quot;width=device-width,\n",
       "                initial-scale=1.0, maximum-scale=1.0, user-scalable=no&quot; /&gt;\n",
       "            &lt;style&gt;\n",
       "                #map_faa5c9fc25acb4588ea1e40bd36fbc52 {\n",
       "                    position: relative;\n",
       "                    width: 100.0%;\n",
       "                    height: 100.0%;\n",
       "                    left: 0.0%;\n",
       "                    top: 0.0%;\n",
       "                }\n",
       "                .leaflet-container { font-size: 1rem; }\n",
       "            &lt;/style&gt;\n",
       "\n",
       "            &lt;style&gt;html, body {\n",
       "                width: 100%;\n",
       "                height: 100%;\n",
       "                margin: 0;\n",
       "                padding: 0;\n",
       "            }\n",
       "            &lt;/style&gt;\n",
       "\n",
       "            &lt;style&gt;#map {\n",
       "                position:absolute;\n",
       "                top:0;\n",
       "                bottom:0;\n",
       "                right:0;\n",
       "                left:0;\n",
       "                }\n",
       "            &lt;/style&gt;\n",
       "\n",
       "            &lt;script&gt;\n",
       "                L_NO_TOUCH = false;\n",
       "                L_DISABLE_3D = false;\n",
       "            &lt;/script&gt;\n",
       "\n",
       "        \n",
       "    &lt;script src=&quot;https://cdn.jsdelivr.net/gh/python-visualization/folium@main/folium/templates/leaflet_heat.min.js&quot;&gt;&lt;/script&gt;\n",
       "&lt;/head&gt;\n",
       "&lt;body&gt;\n",
       "    \n",
       "    \n",
       "            &lt;div class=&quot;folium-map&quot; id=&quot;map_faa5c9fc25acb4588ea1e40bd36fbc52&quot; &gt;&lt;/div&gt;\n",
       "        \n",
       "&lt;/body&gt;\n",
       "&lt;script&gt;\n",
       "    \n",
       "    \n",
       "            var map_faa5c9fc25acb4588ea1e40bd36fbc52 = L.map(\n",
       "                &quot;map_faa5c9fc25acb4588ea1e40bd36fbc52&quot;,\n",
       "                {\n",
       "                    center: [48.0, 5.0],\n",
       "                    crs: L.CRS.EPSG3857,\n",
       "                    ...{\n",
       "  &quot;zoom&quot;: 6,\n",
       "  &quot;zoomControl&quot;: true,\n",
       "  &quot;preferCanvas&quot;: false,\n",
       "}\n",
       "\n",
       "                }\n",
       "            );\n",
       "\n",
       "            \n",
       "\n",
       "        \n",
       "    \n",
       "            var tile_layer_fd4f52e0df24ac1cae63bda44d3ac171 = L.tileLayer(\n",
       "                &quot;https://tile.openstreetmap.org/{z}/{x}/{y}.png&quot;,\n",
       "                {\n",
       "  &quot;minZoom&quot;: 0,\n",
       "  &quot;maxZoom&quot;: 19,\n",
       "  &quot;maxNativeZoom&quot;: 19,\n",
       "  &quot;noWrap&quot;: false,\n",
       "  &quot;attribution&quot;: &quot;\\u0026copy; \\u003ca href=\\&quot;https://www.openstreetmap.org/copyright\\&quot;\\u003eOpenStreetMap\\u003c/a\\u003e contributors&quot;,\n",
       "  &quot;subdomains&quot;: &quot;abc&quot;,\n",
       "  &quot;detectRetina&quot;: false,\n",
       "  &quot;tms&quot;: false,\n",
       "  &quot;opacity&quot;: 1,\n",
       "}\n",
       "\n",
       "            );\n",
       "        \n",
       "    \n",
       "            tile_layer_fd4f52e0df24ac1cae63bda44d3ac171.addTo(map_faa5c9fc25acb4588ea1e40bd36fbc52);\n",
       "        \n",
       "    \n",
       "            var heat_map_8c10e3ff887e374d70015cad5b74812b = L.heatLayer(\n",
       "                [[48.28968144381022, 4.48747025117502, 1.3699405513024587], [47.51231993990993, 4.601125965489907, 0.22356060086832452], [50.4833484417873, 6.001652082131195, -1.0318900153773019], [47.90914561673165, 4.150226830671833, 0.42668339435383174], [47.128419387347215, 6.584556925497984, 0.877707752763039], [45.91908548614497, 4.947924648132695, 0.4414156033313137], [47.30598619140062, 6.7787036985009905, 0.6649946567880943], [48.1590361574575, 5.063485735004116, 0.7353976496679853], [47.04882259683793, 5.482186238102774, 1.3737647211588249], [48.987715307274975, 3.5326488347332905, 3.0351337184097984], [46.9760568608883, 5.713590027141279, 0.9001213175804577], [48.51000387682917, 6.017270217477728, 1.6395421171265216], [48.01236225245164, 4.999662707743424, 0.4666727880620064], [48.89422212975308, 5.053733490798565, 2.1240734052930765], [47.69095343296746, 5.40830203397028, 2.3337002702891034], [47.68201396706763, 4.767830044842495, -0.3654076319485089], [47.78862181300852, 5.624051950369077, -0.6502455259809876], [47.25745187876935, 4.613069103091522, 1.9051190430086637], [46.92585225514679, 5.391956362908776, 0.9381555897312217], [48.071100928141476, 4.343893160326523, 0.8438025657656578], [47.275838417848426, 6.280274955575359, -0.18825918584031132], [46.05683303284949, 6.848433694146532, 1.8147638105850168], [48.99508134403812, 5.3769711589545865, 1.1968375002025606], [47.617862883583726, 5.941805665440746, 1.599961142317746], [48.09118917531233, 5.208747500869824, 1.755392064635532], [46.64760230866222, 5.2545941075212665, 0.6572490032094446], [47.983809136564865, 5.008735814339058, 2.862947532978941], [50.03338692388012, 4.333912164230605, 1.1412918253075341], [48.82451857423371, 3.4473730018931046, 2.775846906305831], [47.69302427968656, 6.34628440175752, 1.95302108323303], [47.59637272056384, 4.678455201056907, 1.1178257553714297], [47.92848674673512, 4.258149639020838, 1.8159791709893867], [45.930189881188454, 4.471880541207048, -0.6481326236747447], [47.070817311431, 5.122407320113996, 0.7709470632944396], [49.3337840461558, 5.827470594244447, 1.6404417818795864], [48.01948740408041, 4.904566253810297, 1.402744470306101], [50.157490005274816, 5.4882613565311225, 0.6536430432528946], [48.296903526802204, 5.341983994399719, 0.46714600013581853], [47.80394562891938, 4.027630923892524, -0.306641327969184], [50.180826108647196, 3.715646640973893, 3.7308905389375453], [47.435541090522484, 4.473938877164543, 0.8657061585718706], [48.45720716275796, 5.085152292913234, 1.5465612267083166], [49.10189361190355, 5.66075136776731, 1.836569170656794], [46.822762582882575, 5.189223539801018, -0.2675951149694662], [48.37830427914701, 6.231498476181171, 1.1333133077348359], [47.053027943912866, 4.2875042512140356, 2.9617133247153093], [48.41442553267532, 4.518079942411591, 1.5900497226321544], [48.025118015397126, 4.814054605133226, -0.22204875174756067], [48.224245772796806, 5.810621396925089, -1.1474656018895661], [47.46783161145187, 5.078558939560222, 0.9047389595586338], [46.41436842700126, 6.245526503605106, 1.017969618336018], [48.43214455743329, 4.177936135248208, 0.6492466609218084], [48.416650299452236, 6.173666285243753, 0.7898580706627815], [48.17243106138482, 3.9717128842417466, 2.594372204951997], [47.88707470925204, 4.172861671469433, 1.524805179165614], [46.912475858959105, 6.448232575415257, 2.5781302801672252], [47.003559503331736, 3.7345532042726806, 0.848990023374555], [49.10741152544317, 4.978989293716769, 0.6029305381777303], [46.938366595703634, 4.178199720069379, 2.2111663620196422], [46.752308073337076, 4.368651429316119, 2.2820540628056873], [48.12066348420827, 6.297548850283763, 1.7413421439433119], [48.074199705641995, 3.457072520024477, 1.2064654106501205], [47.406567714126965, 5.820854844183556, 0.039924087230990724], [47.94954583447711, 4.366292271223263, -0.4576818578119546], [48.80862330929627, 6.289500362429352, 0.980133892827262], [48.52581815543567, 5.820097903166996, 0.8147303304189407], [47.460112835081134, 2.653609199529803, 0.6071583800032059], [47.998959140732694, 4.3815476142047, 0.6613304064717476], [49.554735494545845, 4.476719441763471, 0.24091139643547754], [46.91344333855253, 5.470118981711506, 1.106946422609585], [48.214075253932464, 5.664397604754029, -0.1973040272603257], [47.54805540605178, 5.660036382339451, 0.7138959327043133], [46.47124607949544, 5.76682913279021, 0.47775140671546623], [47.167456512245614, 5.0604471712126, 1.353566246917783], [47.895790633515865, 6.396026635305412, 1.0051570797755967], [47.75997612376257, 4.6412482476684325, 0.3411650109293909], [47.587216859525526, 3.731931749238033, 2.267973388683031], [47.9593363014143, 5.75919653054051, 1.685757850149277], [49.08289201158845, 4.713013421680669, 1.321119461041091], [49.02718148955556, 6.8847593911892115, 1.3563188067483818], [47.88548305282009, 4.335742978688317, 1.3380106275505212], [48.007173610426705, 6.252693010392628, 1.8907942315059834], [48.975912051495996, 5.575895152929506, -0.12328558989453287], [45.90657188745617, 5.051207701469425, -0.010537430829833383], [46.77201072299733, 5.420530456248627, 0.5368780757393976], [49.01648652115585, 4.632616570600028, 1.6871208313211379], [49.772156182500694, 5.237242028468897, 0.577145609572216], [47.93962220418861, 4.62512717487079, -0.014565581342267597], [46.351807354039394, 5.5852028231868385, 0.015027970094854348], [47.78486432341051, 3.4115079766946694, 1.0220694436500484], [47.74781702541421, 6.757448653914263, 1.9322778288863685], [47.75955935738687, 5.058736059133836, -0.4753026367487163], [47.536531871386806, 5.023198492828535, 0.6503026038364293], [47.09305088470238, 4.513188226265436, 0.9605983268520546], [48.89703745889658, 3.4269025296328803, -0.06468817568270402], [47.08213797894642, 3.166392696948955, 2.49666779288909], [46.42078733275898, 3.922945828040323, 2.1074374683149957], [48.469616646969754, 7.268848191664782, -0.27853372259926035], [48.99318793794152, 6.898733372563869, 1.0762923459080784], [49.5734724918305, 5.282413079822835, 0.4817665952142913]],\n",
       "                {\n",
       "  &quot;minOpacity&quot;: 0.5,\n",
       "  &quot;maxZoom&quot;: 18,\n",
       "  &quot;radius&quot;: 25,\n",
       "  &quot;blur&quot;: 15,\n",
       "}\n",
       "            );\n",
       "        \n",
       "    \n",
       "            heat_map_8c10e3ff887e374d70015cad5b74812b.addTo(map_faa5c9fc25acb4588ea1e40bd36fbc52);\n",
       "        \n",
       "&lt;/script&gt;\n",
       "&lt;/html&gt;\" style=\"position:absolute;width:100%;height:100%;left:0;top:0;border:none !important;\" allowfullscreen webkitallowfullscreen mozallowfullscreen></iframe></div></div>"
      ],
      "text/plain": [
       "<folium.folium.Map at 0x7f156453f0e0>"
      ]
     },
     "execution_count": 2,
     "metadata": {},
     "output_type": "execute_result"
    }
   ],
   "source": [
    "import folium\n",
    "from folium.plugins import HeatMap\n",
    "\n",
    "m = folium.Map([48.0, 5.0], zoom_start=6)\n",
    "\n",
    "HeatMap(data).add_to(m)\n",
    "\n",
    "m"
   ]
  }
 ],
 "metadata": {
  "jupytext": {
   "text_representation": {
    "extension": ".mystnb",
    "format_name": "myst"
   }
  },
  "language_info": {
   "codemirror_mode": {
    "name": "ipython",
    "version": 3
   },
   "file_extension": ".py",
   "mimetype": "text/x-python",
   "name": "python",
   "nbconvert_exporter": "python",
   "pygments_lexer": "ipython3",
   "version": "3.12.10"
  }
 },
 "nbformat": 4,
 "nbformat_minor": 5
}
