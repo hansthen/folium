{
 "cells": [
  {
   "cell_type": "markdown",
   "id": "cd4bceb5",
   "metadata": {},
   "source": [
    "## Heatmap"
   ]
  },
  {
   "cell_type": "code",
   "execution_count": 1,
   "id": "da7639bf",
   "metadata": {
    "execution": {
     "iopub.execute_input": "2025-04-06T15:44:54.026894Z",
     "iopub.status.busy": "2025-04-06T15:44:54.026736Z",
     "iopub.status.idle": "2025-04-06T15:44:54.080957Z",
     "shell.execute_reply": "2025-04-06T15:44:54.080543Z"
    }
   },
   "outputs": [],
   "source": [
    "import numpy as np\n",
    "\n",
    "data = (\n",
    "    np.random.normal(size=(100, 3)) * np.array([[1, 1, 1]]) + np.array([[48, 5, 1]])\n",
    ").tolist()"
   ]
  },
  {
   "cell_type": "code",
   "execution_count": 2,
   "id": "2f7a0208",
   "metadata": {
    "execution": {
     "iopub.execute_input": "2025-04-06T15:44:54.082979Z",
     "iopub.status.busy": "2025-04-06T15:44:54.082768Z",
     "iopub.status.idle": "2025-04-06T15:44:54.520089Z",
     "shell.execute_reply": "2025-04-06T15:44:54.519629Z"
    }
   },
   "outputs": [
    {
     "data": {
      "text/html": [
       "<div style=\"width:100%;\"><div style=\"position:relative;width:100%;height:0;padding-bottom:60%;\"><span style=\"color:#565656\">Make this Notebook Trusted to load map: File -> Trust Notebook</span><iframe srcdoc=\"&lt;!DOCTYPE html&gt;\n",
       "&lt;html&gt;\n",
       "&lt;head&gt;\n",
       "    \n",
       "    &lt;meta http-equiv=&quot;content-type&quot; content=&quot;text/html; charset=UTF-8&quot; /&gt;\n",
       "    &lt;script src=&quot;https://cdn.jsdelivr.net/npm/leaflet@1.9.3/dist/leaflet.js&quot;&gt;&lt;/script&gt;\n",
       "    &lt;script src=&quot;https://code.jquery.com/jquery-3.7.1.min.js&quot;&gt;&lt;/script&gt;\n",
       "    &lt;script src=&quot;https://cdn.jsdelivr.net/npm/bootstrap@5.2.2/dist/js/bootstrap.bundle.min.js&quot;&gt;&lt;/script&gt;\n",
       "    &lt;script src=&quot;https://cdnjs.cloudflare.com/ajax/libs/Leaflet.awesome-markers/2.0.2/leaflet.awesome-markers.js&quot;&gt;&lt;/script&gt;\n",
       "    &lt;link rel=&quot;stylesheet&quot; href=&quot;https://cdn.jsdelivr.net/npm/leaflet@1.9.3/dist/leaflet.css&quot;/&gt;\n",
       "    &lt;link rel=&quot;stylesheet&quot; href=&quot;https://cdn.jsdelivr.net/npm/bootstrap@5.2.2/dist/css/bootstrap.min.css&quot;/&gt;\n",
       "    &lt;link rel=&quot;stylesheet&quot; href=&quot;https://netdna.bootstrapcdn.com/bootstrap/3.0.0/css/bootstrap-glyphicons.css&quot;/&gt;\n",
       "    &lt;link rel=&quot;stylesheet&quot; href=&quot;https://cdn.jsdelivr.net/npm/@fortawesome/fontawesome-free@6.2.0/css/all.min.css&quot;/&gt;\n",
       "    &lt;link rel=&quot;stylesheet&quot; href=&quot;https://cdnjs.cloudflare.com/ajax/libs/Leaflet.awesome-markers/2.0.2/leaflet.awesome-markers.css&quot;/&gt;\n",
       "    &lt;link rel=&quot;stylesheet&quot; href=&quot;https://cdn.jsdelivr.net/gh/python-visualization/folium/folium/templates/leaflet.awesome.rotate.min.css&quot;/&gt;\n",
       "    \n",
       "            &lt;meta name=&quot;viewport&quot; content=&quot;width=device-width,\n",
       "                initial-scale=1.0, maximum-scale=1.0, user-scalable=no&quot; /&gt;\n",
       "            &lt;style&gt;\n",
       "                #map_b5b2d00cefe6c286691af266a537fb3e {\n",
       "                    position: relative;\n",
       "                    width: 100.0%;\n",
       "                    height: 100.0%;\n",
       "                    left: 0.0%;\n",
       "                    top: 0.0%;\n",
       "                }\n",
       "                .leaflet-container { font-size: 1rem; }\n",
       "            &lt;/style&gt;\n",
       "\n",
       "            &lt;style&gt;html, body {\n",
       "                width: 100%;\n",
       "                height: 100%;\n",
       "                margin: 0;\n",
       "                padding: 0;\n",
       "            }\n",
       "            &lt;/style&gt;\n",
       "\n",
       "            &lt;style&gt;#map {\n",
       "                position:absolute;\n",
       "                top:0;\n",
       "                bottom:0;\n",
       "                right:0;\n",
       "                left:0;\n",
       "                }\n",
       "            &lt;/style&gt;\n",
       "\n",
       "            &lt;script&gt;\n",
       "                L_NO_TOUCH = false;\n",
       "                L_DISABLE_3D = false;\n",
       "            &lt;/script&gt;\n",
       "\n",
       "        \n",
       "    &lt;script src=&quot;https://cdn.jsdelivr.net/gh/python-visualization/folium@main/folium/templates/leaflet_heat.min.js&quot;&gt;&lt;/script&gt;\n",
       "&lt;/head&gt;\n",
       "&lt;body&gt;\n",
       "    \n",
       "    \n",
       "            &lt;div class=&quot;folium-map&quot; id=&quot;map_b5b2d00cefe6c286691af266a537fb3e&quot; &gt;&lt;/div&gt;\n",
       "        \n",
       "&lt;/body&gt;\n",
       "&lt;script&gt;\n",
       "    \n",
       "    \n",
       "            var map_b5b2d00cefe6c286691af266a537fb3e = L.map(\n",
       "                &quot;map_b5b2d00cefe6c286691af266a537fb3e&quot;,\n",
       "                {\n",
       "                    center: [48.0, 5.0],\n",
       "                    crs: L.CRS.EPSG3857,\n",
       "                    ...{\n",
       "  &quot;zoom&quot;: 6,\n",
       "  &quot;zoomControl&quot;: true,\n",
       "  &quot;preferCanvas&quot;: false,\n",
       "}\n",
       "\n",
       "                }\n",
       "            );\n",
       "\n",
       "            \n",
       "\n",
       "        \n",
       "    \n",
       "            var tile_layer_0dcaa8e855d7405b95de225becdd121a = L.tileLayer(\n",
       "                &quot;https://tile.openstreetmap.org/{z}/{x}/{y}.png&quot;,\n",
       "                {\n",
       "  &quot;minZoom&quot;: 0,\n",
       "  &quot;maxZoom&quot;: 19,\n",
       "  &quot;maxNativeZoom&quot;: 19,\n",
       "  &quot;noWrap&quot;: false,\n",
       "  &quot;attribution&quot;: &quot;\\u0026copy; \\u003ca href=\\&quot;https://www.openstreetmap.org/copyright\\&quot;\\u003eOpenStreetMap\\u003c/a\\u003e contributors&quot;,\n",
       "  &quot;subdomains&quot;: &quot;abc&quot;,\n",
       "  &quot;detectRetina&quot;: false,\n",
       "  &quot;tms&quot;: false,\n",
       "  &quot;opacity&quot;: 1,\n",
       "}\n",
       "\n",
       "            );\n",
       "        \n",
       "    \n",
       "            tile_layer_0dcaa8e855d7405b95de225becdd121a.addTo(map_b5b2d00cefe6c286691af266a537fb3e);\n",
       "        \n",
       "    \n",
       "            var heat_map_e583a1b3182cf7ecd6f7c187cbc577a6 = L.heatLayer(\n",
       "                [[48.30856392638, 3.4184706831728677, 0.20408471439659726], [47.53751383887462, 5.138303297954711, 1.3252690944971695], [50.09892683050682, 3.385081945650965, 1.3170070954506903], [48.727395816768194, 3.531480118699224, 0.05273002638435886], [49.1596339686293, 5.131881722451605, 0.7892119241339949], [48.04211955332744, 6.697988274668725, 1.2321848133219426], [46.70639500661778, 4.8843196945449385, 2.2377436292153607], [48.42733261949331, 5.407165398031096, 1.4200789442707795], [48.76578176851797, 4.8458155275881625, 1.5973119798827116], [46.13187302414817, 5.860336924891094, -0.5210046602485809], [46.695759601454355, 4.761137724475073, -0.05221430250225656], [47.181591080938816, 6.400586570184435, 1.2570834762212173], [48.20807567461516, 5.747375544413246, 1.1094466648394592], [49.51591572178098, 4.952831725284104, -0.40664803748226563], [48.28599058779647, 5.191848683385025, 0.3823221929634295], [45.758907120528384, 4.400478753502849, 1.3973038724750886], [46.96227840860104, 5.616146609689864, 0.9273292671141677], [48.580329075939176, 3.6738811132799345, 2.1627032564469193], [46.59090733027188, 6.304076179859475, 2.155041964687017], [49.259871826952576, 5.024065978690221, -1.0286022659058096], [48.60736461866688, 5.466747238023712, 2.254200163609153], [47.37046317606192, 4.56748070226821, 0.9414124172006386], [47.87382689833315, 5.180434247552919, 0.4545144219566437], [46.738872308152594, 4.279871289836626, -0.9472460227854571], [47.689734094645324, 4.59535936669033, 0.45843705179664407], [49.111188174336824, 4.650611911894824, -0.2437039147088862], [48.24044137143313, 4.528788255592164, 0.44651597403430443], [48.0090178265743, 4.201572577081193, 1.6668068251004502], [47.54768264261693, 3.7964758309639293, 0.9640214826136113], [47.08779579948974, 3.8154138548882255, 1.8537403105422787], [47.88689071694826, 4.894853044326337, 2.58699607826403], [47.740310415494974, 6.4717607926756315, 0.7866415631920227], [49.785189264341184, 4.029119563864457, 1.3491686308181843], [48.79547771771654, 2.9760376297938698, 1.6070398022581822], [48.20754373831312, 4.413600536888235, 1.1619933109791212], [46.609754889663144, 4.360312582707351, 1.1825095525278024], [49.2795109183585, 5.559087123777662, 2.1316807150632626], [46.84306354044989, 4.47561170749236, -1.6307084865781372], [47.010924502006844, 5.556310289427729, 1.3937786891468877], [49.570576765233575, 5.124626534697677, 2.7034399328937173], [49.479003488750976, 4.059241451943745, 1.4059672808784265], [45.998443351233036, 5.38911718232444, 1.7167164494574618], [47.586235917138936, 4.55177197380577, 3.244298795468448], [46.24398298743976, 5.807535877452187, 1.2745209884765767], [45.92833999461007, 4.200733590439604, 1.3986224552970583], [48.348696526722605, 4.9351789629768055, 1.6270713852397232], [49.1333490701939, 4.650435939582392, 0.21877554389176546], [47.66967876352475, 5.113329443547831, 1.4775999782826306], [47.795207287080785, 3.962731307282051, -0.07567806765408558], [47.64933473685604, 5.324472809945646, 2.1155387793855756], [46.843218033926206, 5.093834550241896, 2.118184654340231], [47.157396000186885, 3.485997344657256, 0.7088537072682828], [50.16440897908036, 5.173108603460653, 1.6889269236272675], [47.15464998943915, 4.551550058405957, 1.5814804179055433], [48.034063096238725, 3.604702516823971, 1.0612484330865928], [45.30937867582316, 4.755539253737144, 1.171523797688845], [47.95849290982309, 4.467791959714636, 1.1614215415756866], [47.995738717625926, 6.818642250732828, 0.0096899284212556], [49.51462008167235, 4.498616126689298, 0.25986020403165233], [47.75879809318765, 5.060725549807167, 1.159992660199244], [48.44458672204692, 3.4977075255486465, 3.6196787532782895], [47.75377794707597, 6.644818409705761, -0.7834177041120656], [49.12457294411225, 4.466810858168349, -0.5155767291293296], [48.145873059754535, 4.510559968711911, 0.38241194623201835], [48.19670744389461, 4.388156411146906, 0.133401321362973], [48.857224259104576, 3.522059896380166, 0.5086693897841794], [49.36074489165987, 5.737385505887987, 3.440140697010814], [48.30941101386914, 4.8555812868780786, 2.5202223507397443], [48.88036356964951, 5.570094270861122, -0.2688184785395087], [47.281333374364806, 5.130841584965522, 2.4174771449169503], [48.5976746899483, 3.761269075826699, 0.25129696862544193], [48.084348803923845, 6.913908918625241, -0.050361221898089115], [49.35810847917602, 3.0739869841682714, 1.5946364535479192], [47.638130782789226, 4.125019454595126, 0.35893310183195193], [47.94062503692253, 4.6874326897024865, 0.8673868373946377], [48.139631496860204, 5.063210595784123, 0.7562004986102612], [49.189307744021896, 3.2279716571383954, 1.9858682118963196], [46.730847309204705, 6.1213746338728106, 2.1151359271913632], [47.84233478160597, 2.5654520894732986, 0.7781485124363128], [48.93616141842753, 4.421378909719419, 2.1866335831822044], [46.49007267490796, 4.880539515581755, 2.208517136038835], [49.826400324461105, 5.329919419792571, 0.26085237692168217], [47.56055017117247, 4.954123153190746, 0.9965108793063218], [48.399761720971064, 4.26386405182947, 1.0204583553456932], [47.41453073735806, 6.751640407664496, -1.205965570249726], [47.55951818531393, 5.121564268772784, 1.3543839856032605], [47.22420623828447, 5.692594198991488, 3.2113340519467553], [47.70085780389216, 8.441547865906811, 0.1519948389175788], [47.58267084864796, 4.456786055274306, 2.181550347309246], [48.19265473099689, 5.388343627126889, 0.621428193773334], [48.309725085294474, 5.653609374563209, 1.5723116535855013], [50.7015516876173, 5.733145274327816, 1.2260042761850833], [46.94705353820417, 4.1547039257439184, 0.3670634883802595], [49.12870861758365, 5.39181750420457, -1.0757158626543588], [47.77277561341618, 5.474359242537761, 2.4608999104939633], [46.941896187448954, 3.9405766219030616, 0.32926888652164354], [47.99591759148012, 4.707976434336135, 1.276635053296467], [48.32252961544073, 6.32071526970425, 1.5329007292483046], [47.69336359367624, 5.891230443546063, -0.6580132337977551], [47.97195859170851, 5.3078467266087115, 1.3937580230548705]],\n",
       "                {\n",
       "  &quot;minOpacity&quot;: 0.5,\n",
       "  &quot;maxZoom&quot;: 18,\n",
       "  &quot;radius&quot;: 25,\n",
       "  &quot;blur&quot;: 15,\n",
       "}\n",
       "            );\n",
       "        \n",
       "    \n",
       "            heat_map_e583a1b3182cf7ecd6f7c187cbc577a6.addTo(map_b5b2d00cefe6c286691af266a537fb3e);\n",
       "        \n",
       "&lt;/script&gt;\n",
       "&lt;/html&gt;\" style=\"position:absolute;width:100%;height:100%;left:0;top:0;border:none !important;\" allowfullscreen webkitallowfullscreen mozallowfullscreen></iframe></div></div>"
      ],
      "text/plain": [
       "<folium.folium.Map at 0x7f2b24350f80>"
      ]
     },
     "execution_count": 2,
     "metadata": {},
     "output_type": "execute_result"
    }
   ],
   "source": [
    "import folium\n",
    "from folium.plugins import HeatMap\n",
    "\n",
    "m = folium.Map([48.0, 5.0], zoom_start=6)\n",
    "\n",
    "HeatMap(data).add_to(m)\n",
    "\n",
    "m"
   ]
  }
 ],
 "metadata": {
  "jupytext": {
   "default_lexer": "ipython3",
   "notebook_metadata_filter": "-all",
   "text_representation": {
    "extension": ".mystnb",
    "format_name": "myst"
   }
  },
  "language_info": {
   "codemirror_mode": {
    "name": "ipython",
    "version": 3
   },
   "file_extension": ".py",
   "mimetype": "text/x-python",
   "name": "python",
   "nbconvert_exporter": "python",
   "pygments_lexer": "ipython3",
   "version": "3.12.9"
  }
 },
 "nbformat": 4,
 "nbformat_minor": 5
}
