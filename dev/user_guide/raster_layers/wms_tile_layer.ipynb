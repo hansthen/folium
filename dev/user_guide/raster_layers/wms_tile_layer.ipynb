{
 "cells": [
  {
   "cell_type": "code",
   "execution_count": 1,
   "id": "9b36f9bd",
   "metadata": {
    "execution": {
     "iopub.execute_input": "2025-06-24T13:29:30.681522Z",
     "iopub.status.busy": "2025-06-24T13:29:30.681367Z",
     "iopub.status.idle": "2025-06-24T13:29:31.090644Z",
     "shell.execute_reply": "2025-06-24T13:29:31.090140Z"
    },
    "nbsphinx": "hidden"
   },
   "outputs": [],
   "source": [
    "import folium"
   ]
  },
  {
   "cell_type": "markdown",
   "id": "5f54579c",
   "metadata": {},
   "source": [
    "# WmsTileLayer"
   ]
  },
  {
   "cell_type": "code",
   "execution_count": 2,
   "id": "23f1104b",
   "metadata": {
    "execution": {
     "iopub.execute_input": "2025-06-24T13:29:31.092855Z",
     "iopub.status.busy": "2025-06-24T13:29:31.092335Z",
     "iopub.status.idle": "2025-06-24T13:29:31.105189Z",
     "shell.execute_reply": "2025-06-24T13:29:31.104785Z"
    }
   },
   "outputs": [
    {
     "data": {
      "text/html": [
       "<div style=\"width:100%;\"><div style=\"position:relative;width:100%;height:0;padding-bottom:60%;\"><span style=\"color:#565656\">Make this Notebook Trusted to load map: File -> Trust Notebook</span><iframe srcdoc=\"&lt;!DOCTYPE html&gt;\n",
       "&lt;html&gt;\n",
       "&lt;head&gt;\n",
       "    \n",
       "    &lt;meta http-equiv=&quot;content-type&quot; content=&quot;text/html; charset=UTF-8&quot; /&gt;\n",
       "    &lt;script src=&quot;https://cdn.jsdelivr.net/npm/leaflet@1.9.3/dist/leaflet.js&quot;&gt;&lt;/script&gt;\n",
       "    &lt;script src=&quot;https://code.jquery.com/jquery-3.7.1.min.js&quot;&gt;&lt;/script&gt;\n",
       "    &lt;script src=&quot;https://cdn.jsdelivr.net/npm/bootstrap@5.2.2/dist/js/bootstrap.bundle.min.js&quot;&gt;&lt;/script&gt;\n",
       "    &lt;script src=&quot;https://cdnjs.cloudflare.com/ajax/libs/Leaflet.awesome-markers/2.0.2/leaflet.awesome-markers.js&quot;&gt;&lt;/script&gt;\n",
       "    &lt;link rel=&quot;stylesheet&quot; href=&quot;https://cdn.jsdelivr.net/npm/leaflet@1.9.3/dist/leaflet.css&quot;/&gt;\n",
       "    &lt;link rel=&quot;stylesheet&quot; href=&quot;https://cdn.jsdelivr.net/npm/bootstrap@5.2.2/dist/css/bootstrap.min.css&quot;/&gt;\n",
       "    &lt;link rel=&quot;stylesheet&quot; href=&quot;https://netdna.bootstrapcdn.com/bootstrap/3.0.0/css/bootstrap-glyphicons.css&quot;/&gt;\n",
       "    &lt;link rel=&quot;stylesheet&quot; href=&quot;https://cdn.jsdelivr.net/npm/@fortawesome/fontawesome-free@6.2.0/css/all.min.css&quot;/&gt;\n",
       "    &lt;link rel=&quot;stylesheet&quot; href=&quot;https://cdnjs.cloudflare.com/ajax/libs/Leaflet.awesome-markers/2.0.2/leaflet.awesome-markers.css&quot;/&gt;\n",
       "    &lt;link rel=&quot;stylesheet&quot; href=&quot;https://cdn.jsdelivr.net/gh/python-visualization/folium/folium/templates/leaflet.awesome.rotate.min.css&quot;/&gt;\n",
       "    \n",
       "            &lt;meta name=&quot;viewport&quot; content=&quot;width=device-width,\n",
       "                initial-scale=1.0, maximum-scale=1.0, user-scalable=no&quot; /&gt;\n",
       "            &lt;style&gt;\n",
       "                #map_11b9ab020dbf64be6d8687a0932c4d70 {\n",
       "                    position: relative;\n",
       "                    width: 100.0%;\n",
       "                    height: 100.0%;\n",
       "                    left: 0.0%;\n",
       "                    top: 0.0%;\n",
       "                }\n",
       "                .leaflet-container { font-size: 1rem; }\n",
       "            &lt;/style&gt;\n",
       "\n",
       "            &lt;style&gt;html, body {\n",
       "                width: 100%;\n",
       "                height: 100%;\n",
       "                margin: 0;\n",
       "                padding: 0;\n",
       "            }\n",
       "            &lt;/style&gt;\n",
       "\n",
       "            &lt;style&gt;#map {\n",
       "                position:absolute;\n",
       "                top:0;\n",
       "                bottom:0;\n",
       "                right:0;\n",
       "                left:0;\n",
       "                }\n",
       "            &lt;/style&gt;\n",
       "\n",
       "            &lt;script&gt;\n",
       "                L_NO_TOUCH = false;\n",
       "                L_DISABLE_3D = false;\n",
       "            &lt;/script&gt;\n",
       "\n",
       "        \n",
       "&lt;/head&gt;\n",
       "&lt;body&gt;\n",
       "    \n",
       "    \n",
       "            &lt;div class=&quot;folium-map&quot; id=&quot;map_11b9ab020dbf64be6d8687a0932c4d70&quot; &gt;&lt;/div&gt;\n",
       "        \n",
       "&lt;/body&gt;\n",
       "&lt;script&gt;\n",
       "    \n",
       "    \n",
       "            var map_11b9ab020dbf64be6d8687a0932c4d70 = L.map(\n",
       "                &quot;map_11b9ab020dbf64be6d8687a0932c4d70&quot;,\n",
       "                {\n",
       "                    center: [41.0, -70.0],\n",
       "                    crs: L.CRS.EPSG3857,\n",
       "                    ...{\n",
       "  &quot;zoom&quot;: 5,\n",
       "  &quot;zoomControl&quot;: true,\n",
       "  &quot;preferCanvas&quot;: false,\n",
       "}\n",
       "\n",
       "                }\n",
       "            );\n",
       "\n",
       "            \n",
       "\n",
       "        \n",
       "    \n",
       "            var tile_layer_e5361e4d2d64e2a9f330e4b03771f3ff = L.tileLayer(\n",
       "                &quot;https://{s}.basemaps.cartocdn.com/light_all/{z}/{x}/{y}{r}.png&quot;,\n",
       "                {\n",
       "  &quot;minZoom&quot;: 0,\n",
       "  &quot;maxZoom&quot;: 20,\n",
       "  &quot;maxNativeZoom&quot;: 20,\n",
       "  &quot;noWrap&quot;: false,\n",
       "  &quot;attribution&quot;: &quot;\\u0026copy; \\u003ca href=\\&quot;https://www.openstreetmap.org/copyright\\&quot;\\u003eOpenStreetMap\\u003c/a\\u003e contributors \\u0026copy; \\u003ca href=\\&quot;https://carto.com/attributions\\&quot;\\u003eCARTO\\u003c/a\\u003e&quot;,\n",
       "  &quot;subdomains&quot;: &quot;abcd&quot;,\n",
       "  &quot;detectRetina&quot;: false,\n",
       "  &quot;tms&quot;: false,\n",
       "  &quot;opacity&quot;: 1,\n",
       "}\n",
       "\n",
       "            );\n",
       "        \n",
       "    \n",
       "            tile_layer_e5361e4d2d64e2a9f330e4b03771f3ff.addTo(map_11b9ab020dbf64be6d8687a0932c4d70);\n",
       "        \n",
       "    \n",
       "            var macro_element_02a04f4380d7e8750acad30c0b452852 = L.tileLayer.wms(\n",
       "                &quot;https://mesonet.agron.iastate.edu/cgi-bin/wms/nexrad/n0r.cgi&quot;,\n",
       "                {&quot;attribution&quot;: &quot;Weather data \\u00a9 2012 IEM Nexrad&quot;, &quot;format&quot;: &quot;image/png&quot;, &quot;layers&quot;: &quot;nexrad-n0r-900913&quot;, &quot;styles&quot;: &quot;&quot;, &quot;transparent&quot;: true, &quot;version&quot;: &quot;1.1.1&quot;}\n",
       "            );\n",
       "        \n",
       "    \n",
       "            macro_element_02a04f4380d7e8750acad30c0b452852.addTo(map_11b9ab020dbf64be6d8687a0932c4d70);\n",
       "        \n",
       "    \n",
       "            var layer_control_f7bd440f7f29fe09e459907b2e1764c5_layers = {\n",
       "                base_layers : {\n",
       "                    &quot;cartodbpositron&quot; : tile_layer_e5361e4d2d64e2a9f330e4b03771f3ff,\n",
       "                },\n",
       "                overlays :  {\n",
       "                    &quot;test&quot; : macro_element_02a04f4380d7e8750acad30c0b452852,\n",
       "                },\n",
       "            };\n",
       "            let layer_control_f7bd440f7f29fe09e459907b2e1764c5 = L.control.layers(\n",
       "                layer_control_f7bd440f7f29fe09e459907b2e1764c5_layers.base_layers,\n",
       "                layer_control_f7bd440f7f29fe09e459907b2e1764c5_layers.overlays,\n",
       "                {\n",
       "  &quot;position&quot;: &quot;topright&quot;,\n",
       "  &quot;collapsed&quot;: true,\n",
       "  &quot;autoZIndex&quot;: true,\n",
       "}\n",
       "            ).addTo(map_11b9ab020dbf64be6d8687a0932c4d70);\n",
       "\n",
       "        \n",
       "&lt;/script&gt;\n",
       "&lt;/html&gt;\" style=\"position:absolute;width:100%;height:100%;left:0;top:0;border:none !important;\" allowfullscreen webkitallowfullscreen mozallowfullscreen></iframe></div></div>"
      ],
      "text/plain": [
       "<folium.folium.Map at 0x7f134826ff20>"
      ]
     },
     "execution_count": 2,
     "metadata": {},
     "output_type": "execute_result"
    }
   ],
   "source": [
    "m = folium.Map(location=[41, -70], zoom_start=5, tiles=\"cartodb positron\")\n",
    "\n",
    "folium.WmsTileLayer(\n",
    "    url=\"https://mesonet.agron.iastate.edu/cgi-bin/wms/nexrad/n0r.cgi\",\n",
    "    name=\"test\",\n",
    "    fmt=\"image/png\",\n",
    "    layers=\"nexrad-n0r-900913\",\n",
    "    attr=u\"Weather data © 2012 IEM Nexrad\",\n",
    "    transparent=True,\n",
    "    overlay=True,\n",
    "    control=True,\n",
    ").add_to(m)\n",
    "\n",
    "folium.LayerControl().add_to(m)\n",
    "\n",
    "m"
   ]
  }
 ],
 "metadata": {
  "jupytext": {
   "text_representation": {
    "extension": ".mystnb",
    "format_name": "myst"
   }
  },
  "language_info": {
   "codemirror_mode": {
    "name": "ipython",
    "version": 3
   },
   "file_extension": ".py",
   "mimetype": "text/x-python",
   "name": "python",
   "nbconvert_exporter": "python",
   "pygments_lexer": "ipython3",
   "version": "3.12.11"
  }
 },
 "nbformat": 4,
 "nbformat_minor": 5
}
