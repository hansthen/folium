{
 "cells": [
  {
   "cell_type": "code",
   "execution_count": 1,
   "id": "f7b8287a",
   "metadata": {
    "execution": {
     "iopub.execute_input": "2024-04-09T17:09:21.422602Z",
     "iopub.status.busy": "2024-04-09T17:09:21.422163Z",
     "iopub.status.idle": "2024-04-09T17:09:21.885609Z",
     "shell.execute_reply": "2024-04-09T17:09:21.885144Z"
    },
    "nbsphinx": "hidden"
   },
   "outputs": [],
   "source": [
    "import folium\n",
    "import folium.plugins"
   ]
  },
  {
   "cell_type": "markdown",
   "id": "5283c3df",
   "metadata": {},
   "source": [
    "## BeautifyIcon"
   ]
  },
  {
   "cell_type": "code",
   "execution_count": 2,
   "id": "159086a1",
   "metadata": {
    "execution": {
     "iopub.execute_input": "2024-04-09T17:09:21.887743Z",
     "iopub.status.busy": "2024-04-09T17:09:21.887501Z",
     "iopub.status.idle": "2024-04-09T17:09:21.901509Z",
     "shell.execute_reply": "2024-04-09T17:09:21.901120Z"
    }
   },
   "outputs": [
    {
     "data": {
      "text/html": [
       "<div style=\"width:100%;\"><div style=\"position:relative;width:100%;height:0;padding-bottom:60%;\"><span style=\"color:#565656\">Make this Notebook Trusted to load map: File -> Trust Notebook</span><iframe srcdoc=\"&lt;!DOCTYPE html&gt;\n",
       "&lt;html&gt;\n",
       "&lt;head&gt;\n",
       "    \n",
       "    &lt;meta http-equiv=&quot;content-type&quot; content=&quot;text/html; charset=UTF-8&quot; /&gt;\n",
       "    \n",
       "        &lt;script&gt;\n",
       "            L_NO_TOUCH = false;\n",
       "            L_DISABLE_3D = false;\n",
       "        &lt;/script&gt;\n",
       "    \n",
       "    &lt;style&gt;html, body {width: 100%;height: 100%;margin: 0;padding: 0;}&lt;/style&gt;\n",
       "    &lt;style&gt;#map {position:absolute;top:0;bottom:0;right:0;left:0;}&lt;/style&gt;\n",
       "    &lt;script src=&quot;https://cdn.jsdelivr.net/npm/leaflet@1.9.3/dist/leaflet.js&quot;&gt;&lt;/script&gt;\n",
       "    &lt;script src=&quot;https://code.jquery.com/jquery-3.7.1.min.js&quot;&gt;&lt;/script&gt;\n",
       "    &lt;script src=&quot;https://cdn.jsdelivr.net/npm/bootstrap@5.2.2/dist/js/bootstrap.bundle.min.js&quot;&gt;&lt;/script&gt;\n",
       "    &lt;script src=&quot;https://cdnjs.cloudflare.com/ajax/libs/Leaflet.awesome-markers/2.0.2/leaflet.awesome-markers.js&quot;&gt;&lt;/script&gt;\n",
       "    &lt;link rel=&quot;stylesheet&quot; href=&quot;https://cdn.jsdelivr.net/npm/leaflet@1.9.3/dist/leaflet.css&quot;/&gt;\n",
       "    &lt;link rel=&quot;stylesheet&quot; href=&quot;https://cdn.jsdelivr.net/npm/bootstrap@5.2.2/dist/css/bootstrap.min.css&quot;/&gt;\n",
       "    &lt;link rel=&quot;stylesheet&quot; href=&quot;https://netdna.bootstrapcdn.com/bootstrap/3.0.0/css/bootstrap-glyphicons.css&quot;/&gt;\n",
       "    &lt;link rel=&quot;stylesheet&quot; href=&quot;https://cdn.jsdelivr.net/npm/@fortawesome/fontawesome-free@6.2.0/css/all.min.css&quot;/&gt;\n",
       "    &lt;link rel=&quot;stylesheet&quot; href=&quot;https://cdnjs.cloudflare.com/ajax/libs/Leaflet.awesome-markers/2.0.2/leaflet.awesome-markers.css&quot;/&gt;\n",
       "    &lt;link rel=&quot;stylesheet&quot; href=&quot;https://cdn.jsdelivr.net/gh/python-visualization/folium/folium/templates/leaflet.awesome.rotate.min.css&quot;/&gt;\n",
       "    \n",
       "            &lt;meta name=&quot;viewport&quot; content=&quot;width=device-width,\n",
       "                initial-scale=1.0, maximum-scale=1.0, user-scalable=no&quot; /&gt;\n",
       "            &lt;style&gt;\n",
       "                #map_c8b8ac88f9ac8d1adec0b81430274342 {\n",
       "                    position: relative;\n",
       "                    width: 100.0%;\n",
       "                    height: 100.0%;\n",
       "                    left: 0.0%;\n",
       "                    top: 0.0%;\n",
       "                }\n",
       "                .leaflet-container { font-size: 1rem; }\n",
       "            &lt;/style&gt;\n",
       "        \n",
       "    &lt;script src=&quot;https://cdn.jsdelivr.net/gh/marslan390/BeautifyMarker/leaflet-beautify-marker-icon.min.js&quot;&gt;&lt;/script&gt;\n",
       "    &lt;link rel=&quot;stylesheet&quot; href=&quot;https://cdn.jsdelivr.net/gh/marslan390/BeautifyMarker/leaflet-beautify-marker-icon.min.css&quot;/&gt;\n",
       "&lt;/head&gt;\n",
       "&lt;body&gt;\n",
       "    \n",
       "    \n",
       "            &lt;div class=&quot;folium-map&quot; id=&quot;map_c8b8ac88f9ac8d1adec0b81430274342&quot; &gt;&lt;/div&gt;\n",
       "        \n",
       "&lt;/body&gt;\n",
       "&lt;script&gt;\n",
       "    \n",
       "    \n",
       "            var map_c8b8ac88f9ac8d1adec0b81430274342 = L.map(\n",
       "                &quot;map_c8b8ac88f9ac8d1adec0b81430274342&quot;,\n",
       "                {\n",
       "                    center: [45.5, -122.0],\n",
       "                    crs: L.CRS.EPSG3857,\n",
       "                    zoom: 3,\n",
       "                    zoomControl: true,\n",
       "                    preferCanvas: false,\n",
       "                }\n",
       "            );\n",
       "\n",
       "            \n",
       "\n",
       "        \n",
       "    \n",
       "            var tile_layer_3d1dc85a2342870308ef88903072c019 = L.tileLayer(\n",
       "                &quot;https://tile.openstreetmap.org/{z}/{x}/{y}.png&quot;,\n",
       "                {&quot;attribution&quot;: &quot;\\u0026copy; \\u003ca href=\\&quot;https://www.openstreetmap.org/copyright\\&quot;\\u003eOpenStreetMap\\u003c/a\\u003e contributors&quot;, &quot;detectRetina&quot;: false, &quot;maxNativeZoom&quot;: 19, &quot;maxZoom&quot;: 19, &quot;minZoom&quot;: 0, &quot;noWrap&quot;: false, &quot;opacity&quot;: 1, &quot;subdomains&quot;: &quot;abc&quot;, &quot;tms&quot;: false}\n",
       "            );\n",
       "        \n",
       "    \n",
       "            tile_layer_3d1dc85a2342870308ef88903072c019.addTo(map_c8b8ac88f9ac8d1adec0b81430274342);\n",
       "        \n",
       "    \n",
       "            var marker_1a5f08c3913a90f139d120fc01c68813 = L.marker(\n",
       "                [46.0, -122.0],\n",
       "                {}\n",
       "            ).addTo(map_c8b8ac88f9ac8d1adec0b81430274342);\n",
       "        \n",
       "    \n",
       "            var beautify_icon_b13ea8f27c0687cbaf908920747a35d2 = new L.BeautifyIcon.icon(\n",
       "                {&quot;backgroundColor&quot;: &quot;#FFF&quot;, &quot;borderColor&quot;: &quot;#b3334f&quot;, &quot;borderWidth&quot;: 3, &quot;icon&quot;: &quot;plane&quot;, &quot;iconShape&quot;: &quot;triangle&quot;, &quot;innerIconStyle&quot;: &quot;&quot;, &quot;isAlphaNumericIcon&quot;: false, &quot;spin&quot;: false, &quot;textColor&quot;: &quot;#b3334f&quot;}\n",
       "            )\n",
       "            marker_1a5f08c3913a90f139d120fc01c68813.setIcon(beautify_icon_b13ea8f27c0687cbaf908920747a35d2);\n",
       "        \n",
       "    \n",
       "        var popup_58b8bf80476655de109e114c33484799 = L.popup({&quot;maxWidth&quot;: &quot;100%&quot;});\n",
       "\n",
       "        \n",
       "            \n",
       "                var html_9c1d4154437cb6239fe81dacc5130b80 = $(`&lt;div id=&quot;html_9c1d4154437cb6239fe81dacc5130b80&quot; style=&quot;width: 100.0%; height: 100.0%;&quot;&gt;Portland, OR&lt;/div&gt;`)[0];\n",
       "                popup_58b8bf80476655de109e114c33484799.setContent(html_9c1d4154437cb6239fe81dacc5130b80);\n",
       "            \n",
       "        \n",
       "\n",
       "        marker_1a5f08c3913a90f139d120fc01c68813.bindPopup(popup_58b8bf80476655de109e114c33484799)\n",
       "        ;\n",
       "\n",
       "        \n",
       "    \n",
       "    \n",
       "            var marker_9bc7b77a4bcb8f654d397a836de0a3ae = L.marker(\n",
       "                [50.0, -122.0],\n",
       "                {}\n",
       "            ).addTo(map_c8b8ac88f9ac8d1adec0b81430274342);\n",
       "        \n",
       "    \n",
       "            var beautify_icon_acf6409d4106c39aef9df180ff254af3 = new L.BeautifyIcon.icon(\n",
       "                {&quot;backgroundColor&quot;: &quot;#FFF&quot;, &quot;borderColor&quot;: &quot;#00ABDC&quot;, &quot;borderWidth&quot;: 3, &quot;innerIconStyle&quot;: &quot;margin-top:0;&quot;, &quot;isAlphaNumericIcon&quot;: true, &quot;spin&quot;: false, &quot;text&quot;: 10, &quot;textColor&quot;: &quot;#00ABDC&quot;}\n",
       "            )\n",
       "            marker_9bc7b77a4bcb8f654d397a836de0a3ae.setIcon(beautify_icon_acf6409d4106c39aef9df180ff254af3);\n",
       "        \n",
       "    \n",
       "        var popup_48dec48faaf9e434502cfc8d35b49967 = L.popup({&quot;maxWidth&quot;: &quot;100%&quot;});\n",
       "\n",
       "        \n",
       "            \n",
       "                var html_e44d44a4c41e6dd9bde1f660f1c17a76 = $(`&lt;div id=&quot;html_e44d44a4c41e6dd9bde1f660f1c17a76&quot; style=&quot;width: 100.0%; height: 100.0%;&quot;&gt;Portland, OR&lt;/div&gt;`)[0];\n",
       "                popup_48dec48faaf9e434502cfc8d35b49967.setContent(html_e44d44a4c41e6dd9bde1f660f1c17a76);\n",
       "            \n",
       "        \n",
       "\n",
       "        marker_9bc7b77a4bcb8f654d397a836de0a3ae.bindPopup(popup_48dec48faaf9e434502cfc8d35b49967)\n",
       "        ;\n",
       "\n",
       "        \n",
       "    \n",
       "&lt;/script&gt;\n",
       "&lt;/html&gt;\" style=\"position:absolute;width:100%;height:100%;left:0;top:0;border:none !important;\" allowfullscreen webkitallowfullscreen mozallowfullscreen></iframe></div></div>"
      ],
      "text/plain": [
       "<folium.folium.Map at 0x7fefe4d22d50>"
      ]
     },
     "execution_count": 2,
     "metadata": {},
     "output_type": "execute_result"
    }
   ],
   "source": [
    "m = folium.Map([45.5, -122], zoom_start=3)\n",
    "\n",
    "icon_plane = folium.plugins.BeautifyIcon(\n",
    "    icon=\"plane\", border_color=\"#b3334f\", text_color=\"#b3334f\", icon_shape=\"triangle\"\n",
    ")\n",
    "\n",
    "icon_number = folium.plugins.BeautifyIcon(\n",
    "    border_color=\"#00ABDC\",\n",
    "    text_color=\"#00ABDC\",\n",
    "    number=10,\n",
    "    inner_icon_style=\"margin-top:0;\",\n",
    ")\n",
    "\n",
    "folium.Marker(location=[46, -122], popup=\"Portland, OR\", icon=icon_plane).add_to(m)\n",
    "\n",
    "folium.Marker(location=[50, -122], popup=\"Portland, OR\", icon=icon_number).add_to(m)\n",
    "\n",
    "m"
   ]
  }
 ],
 "metadata": {
  "jupytext": {
   "text_representation": {
    "extension": ".mystnb",
    "format_name": "myst"
   }
  },
  "language_info": {
   "codemirror_mode": {
    "name": "ipython",
    "version": 3
   },
   "file_extension": ".py",
   "mimetype": "text/x-python",
   "name": "python",
   "nbconvert_exporter": "python",
   "pygments_lexer": "ipython3",
   "version": "3.12.2"
  }
 },
 "nbformat": 4,
 "nbformat_minor": 5
}
