{
 "cells": [
  {
   "cell_type": "markdown",
   "id": "36d31247",
   "metadata": {},
   "source": [
    "## Heatmap"
   ]
  },
  {
   "cell_type": "code",
   "execution_count": 1,
   "id": "0c6ee397",
   "metadata": {
    "execution": {
     "iopub.execute_input": "2024-04-09T17:09:37.679079Z",
     "iopub.status.busy": "2024-04-09T17:09:37.678755Z",
     "iopub.status.idle": "2024-04-09T17:09:37.736830Z",
     "shell.execute_reply": "2024-04-09T17:09:37.736412Z"
    }
   },
   "outputs": [],
   "source": [
    "import numpy as np\n",
    "\n",
    "data = (\n",
    "    np.random.normal(size=(100, 3)) * np.array([[1, 1, 1]]) + np.array([[48, 5, 1]])\n",
    ").tolist()"
   ]
  },
  {
   "cell_type": "code",
   "execution_count": 2,
   "id": "4bbd9bb2",
   "metadata": {
    "execution": {
     "iopub.execute_input": "2024-04-09T17:09:37.739747Z",
     "iopub.status.busy": "2024-04-09T17:09:37.738869Z",
     "iopub.status.idle": "2024-04-09T17:09:38.158832Z",
     "shell.execute_reply": "2024-04-09T17:09:38.158334Z"
    }
   },
   "outputs": [
    {
     "data": {
      "text/html": [
       "<div style=\"width:100%;\"><div style=\"position:relative;width:100%;height:0;padding-bottom:60%;\"><span style=\"color:#565656\">Make this Notebook Trusted to load map: File -> Trust Notebook</span><iframe srcdoc=\"&lt;!DOCTYPE html&gt;\n",
       "&lt;html&gt;\n",
       "&lt;head&gt;\n",
       "    \n",
       "    &lt;meta http-equiv=&quot;content-type&quot; content=&quot;text/html; charset=UTF-8&quot; /&gt;\n",
       "    \n",
       "        &lt;script&gt;\n",
       "            L_NO_TOUCH = false;\n",
       "            L_DISABLE_3D = false;\n",
       "        &lt;/script&gt;\n",
       "    \n",
       "    &lt;style&gt;html, body {width: 100%;height: 100%;margin: 0;padding: 0;}&lt;/style&gt;\n",
       "    &lt;style&gt;#map {position:absolute;top:0;bottom:0;right:0;left:0;}&lt;/style&gt;\n",
       "    &lt;script src=&quot;https://cdn.jsdelivr.net/npm/leaflet@1.9.3/dist/leaflet.js&quot;&gt;&lt;/script&gt;\n",
       "    &lt;script src=&quot;https://code.jquery.com/jquery-3.7.1.min.js&quot;&gt;&lt;/script&gt;\n",
       "    &lt;script src=&quot;https://cdn.jsdelivr.net/npm/bootstrap@5.2.2/dist/js/bootstrap.bundle.min.js&quot;&gt;&lt;/script&gt;\n",
       "    &lt;script src=&quot;https://cdnjs.cloudflare.com/ajax/libs/Leaflet.awesome-markers/2.0.2/leaflet.awesome-markers.js&quot;&gt;&lt;/script&gt;\n",
       "    &lt;link rel=&quot;stylesheet&quot; href=&quot;https://cdn.jsdelivr.net/npm/leaflet@1.9.3/dist/leaflet.css&quot;/&gt;\n",
       "    &lt;link rel=&quot;stylesheet&quot; href=&quot;https://cdn.jsdelivr.net/npm/bootstrap@5.2.2/dist/css/bootstrap.min.css&quot;/&gt;\n",
       "    &lt;link rel=&quot;stylesheet&quot; href=&quot;https://netdna.bootstrapcdn.com/bootstrap/3.0.0/css/bootstrap-glyphicons.css&quot;/&gt;\n",
       "    &lt;link rel=&quot;stylesheet&quot; href=&quot;https://cdn.jsdelivr.net/npm/@fortawesome/fontawesome-free@6.2.0/css/all.min.css&quot;/&gt;\n",
       "    &lt;link rel=&quot;stylesheet&quot; href=&quot;https://cdnjs.cloudflare.com/ajax/libs/Leaflet.awesome-markers/2.0.2/leaflet.awesome-markers.css&quot;/&gt;\n",
       "    &lt;link rel=&quot;stylesheet&quot; href=&quot;https://cdn.jsdelivr.net/gh/python-visualization/folium/folium/templates/leaflet.awesome.rotate.min.css&quot;/&gt;\n",
       "    \n",
       "            &lt;meta name=&quot;viewport&quot; content=&quot;width=device-width,\n",
       "                initial-scale=1.0, maximum-scale=1.0, user-scalable=no&quot; /&gt;\n",
       "            &lt;style&gt;\n",
       "                #map_fafd1a03777cea6f363aa30dcab3f0cf {\n",
       "                    position: relative;\n",
       "                    width: 100.0%;\n",
       "                    height: 100.0%;\n",
       "                    left: 0.0%;\n",
       "                    top: 0.0%;\n",
       "                }\n",
       "                .leaflet-container { font-size: 1rem; }\n",
       "            &lt;/style&gt;\n",
       "        \n",
       "    &lt;script src=&quot;https://cdn.jsdelivr.net/gh/python-visualization/folium@main/folium/templates/leaflet_heat.min.js&quot;&gt;&lt;/script&gt;\n",
       "&lt;/head&gt;\n",
       "&lt;body&gt;\n",
       "    \n",
       "    \n",
       "            &lt;div class=&quot;folium-map&quot; id=&quot;map_fafd1a03777cea6f363aa30dcab3f0cf&quot; &gt;&lt;/div&gt;\n",
       "        \n",
       "&lt;/body&gt;\n",
       "&lt;script&gt;\n",
       "    \n",
       "    \n",
       "            var map_fafd1a03777cea6f363aa30dcab3f0cf = L.map(\n",
       "                &quot;map_fafd1a03777cea6f363aa30dcab3f0cf&quot;,\n",
       "                {\n",
       "                    center: [48.0, 5.0],\n",
       "                    crs: L.CRS.EPSG3857,\n",
       "                    zoom: 6,\n",
       "                    zoomControl: true,\n",
       "                    preferCanvas: false,\n",
       "                }\n",
       "            );\n",
       "\n",
       "            \n",
       "\n",
       "        \n",
       "    \n",
       "            var tile_layer_148bb0aa650af07a2c35100bea8a4e42 = L.tileLayer(\n",
       "                &quot;https://tile.openstreetmap.org/{z}/{x}/{y}.png&quot;,\n",
       "                {&quot;attribution&quot;: &quot;\\u0026copy; \\u003ca href=\\&quot;https://www.openstreetmap.org/copyright\\&quot;\\u003eOpenStreetMap\\u003c/a\\u003e contributors&quot;, &quot;detectRetina&quot;: false, &quot;maxNativeZoom&quot;: 19, &quot;maxZoom&quot;: 19, &quot;minZoom&quot;: 0, &quot;noWrap&quot;: false, &quot;opacity&quot;: 1, &quot;subdomains&quot;: &quot;abc&quot;, &quot;tms&quot;: false}\n",
       "            );\n",
       "        \n",
       "    \n",
       "            tile_layer_148bb0aa650af07a2c35100bea8a4e42.addTo(map_fafd1a03777cea6f363aa30dcab3f0cf);\n",
       "        \n",
       "    \n",
       "            var heat_map_e6ffa44edbc3d9f32900f4cf117bf5fb = L.heatLayer(\n",
       "                [[48.68402873382965, 3.994256217650406, 0.5967798075827085], [49.39415767261845, 6.045192400571806, -0.9462856007394245], [48.47788707149321, 6.01847344295176, 1.6180527084859442], [47.74431426271696, 6.0523318800803, 1.025757383550142], [48.30118665847912, 4.193607045568086, 0.9958548510130683], [49.1045842535751, 4.437776858951997, 0.7804853982514814], [46.87820805607946, 5.153335862152929, -1.1499122618450697], [48.3637776950412, 5.645488440864404, -0.22635434876115146], [48.807821867361646, 6.411269070645805, -0.5883995846733387], [48.382205856948445, 3.3438359651410208, 0.7018073350698892], [47.337338274007955, 5.747874053254006, 0.806951192748968], [47.36571575678008, 4.781994160723533, 0.5131263185924118], [49.36489271297421, 4.408234355672887, 1.4104028562632616], [48.16105531344343, 5.910060840721856, 0.11403403381130695], [46.5545266633941, 4.945118639519124, 1.7665504567114185], [47.98193252276498, 6.603554398524033, 0.5218432503993813], [47.7023680645638, 3.5920769264507904, 0.5511530433226213], [47.518586111411686, 3.8073159665961596, 0.3755195539720503], [49.24063405753208, 7.286505385851275, 1.0926631290857107], [46.50913752280981, 5.214147595497519, 1.2418829655065238], [47.28069084957509, 4.119073844887622, 0.5612470572248336], [47.12454308922871, 4.887393238024393, 2.251182203155903], [48.284334242499156, 4.031584662601062, -0.10701191111187214], [47.15200841031319, 7.261505955023553, 1.3901869133701403], [47.33269211783688, 5.140458176555195, 2.0682189773326978], [46.76871124305753, 3.9781133477074455, 0.9293124621473808], [46.93633175952962, 5.960148699845474, -0.7978049717496507], [49.06379112639292, 5.489746627701761, 1.0542283671218164], [48.38621718618633, 5.9741883850225115, 1.432967121002811], [48.475110492803154, 4.640827961447732, 1.936393640721751], [46.089256548483334, 4.758096455495848, 2.00096541965398], [47.7980099989019, 4.267891341950483, 1.9245186999625048], [45.41631635213676, 6.625489798889143, 1.598113533260147], [49.20130070351911, 6.261071362399619, 0.39721672541666353], [47.225715759776186, 4.359342101914079, -1.2621454621951873], [47.79108875674687, 6.784610446279012, 0.4278115610541374], [48.5793372931819, 3.77651230267731, 1.735394687521605], [46.950574931904605, 4.695915463486422, 1.2071436895209702], [48.2073230554708, 4.330662770479517, 0.6616916638771857], [47.04394207884502, 6.945810669090643, 0.6753841228225013], [47.891849650381964, 2.600053245405317, 1.6044820768109227], [47.108379939444575, 2.554236593550668, -0.8913097673274037], [47.60535934664529, 5.967618693835716, 1.6829871074256904], [48.42945420827114, 7.398100671718796, 0.7332554623608918], [47.08403989253671, 4.89000347751867, 2.010510648007572], [48.26978247522304, 4.907457877887146, 0.12699776387746753], [49.11306635459957, 6.7352094758116055, 3.320280559472353], [47.8162133941061, 2.606239004800015, -0.3905022046094362], [47.90965803769878, 5.084368628255405, 0.022029330026392513], [48.546038731214466, 4.812420315596753, 1.0499887317934797], [49.256342286986055, 4.151874807246066, 0.9630209110807444], [48.55408961143096, 6.2746717395866956, 0.029350519782145756], [48.758494168899475, 4.45683826992377, 2.316246550492213], [49.65152911635751, 6.506786396821055, 2.2783156271951936], [44.994028401374415, 5.662932610705349, 1.3988276657389416], [46.36208719330405, 5.965342935829039, 2.2520747093977045], [48.57527659308313, 4.726379697586489, 1.9501558621345962], [47.32941375746749, 3.655123867537627, 2.578569220186054], [48.25544701538904, 2.9752344806088016, 1.5111609237667494], [47.06000689348289, 4.550731041449156, 1.068940710090759], [48.10379951776278, 5.376379557660908, 0.11929066449097059], [47.67362026911629, 5.305486573297777, 0.086266779794414], [49.70623723612888, 5.475351742918631, 0.1786940076718374], [48.49018843342644, 5.402559394538437, 1.1513000286750041], [47.25953323351139, 4.8922266164906, 0.48318422362857294], [47.53268313341068, 3.748884700878463, 0.5467852082975218], [48.20977046564631, 5.162072246271668, -0.4562838244974119], [47.87458466636193, 5.623411056087326, 1.5257672950604313], [47.16338194044097, 3.6322625119034093, 2.0863461599711917], [46.87344843898066, 6.49272975431799, 1.9633862655047687], [48.592215782553396, 4.673533556661698, 0.7898346606725157], [47.61652490283455, 5.695373389791256, 1.8658492239022753], [49.597949364077465, 5.219168062302989, -0.29960867400722213], [48.3412303048747, 5.907026033660698, -0.3750592081268296], [48.57044894152802, 4.322791772346086, -1.009223034850872], [48.058507686515505, 4.347774245522109, 2.2122645297303594], [48.439659481504435, 5.062721456073612, 1.9665305845198777], [47.39956641223017, 7.089160922467196, 2.4203845840758365], [47.574975762500614, 5.6241035779867525, 1.2912949738388497], [48.312895422393744, 5.104454240841076, 2.4278688411322378], [48.17645741021134, 4.854794673487389, 1.4565771982576359], [47.927965023428406, 6.181545554061539, 2.2344145063359724], [47.09104883138497, 5.317570272273366, 2.016287765615724], [48.25486195388976, 4.513932122127531, 0.08171311169414863], [45.817466707054564, 3.6754024066320294, 0.10556654126724363], [46.607003913957875, 4.807475063610024, 0.35888264471798714], [46.35613877882989, 3.7406277073392764, 1.100352162405981], [46.4795451291605, 5.113322181024417, -0.0021005379606648944], [46.86767740021624, 4.2566862630097395, -0.133096989685622], [49.50507466714398, 5.321240431814806, 0.8845575534908656], [45.206914676558206, 4.188608184590726, 0.8062898211241991], [47.11028087199919, 3.6945882623764676, 0.17991903868677483], [48.2036800617625, 4.904832114769026, 1.2959348323369497], [47.967676439445164, 4.504147959680579, 0.7893788180465131], [47.47446918365785, 5.168549727506711, 1.6010679539628665], [47.50165488217558, 4.452103510331584, 1.870900079246319], [48.18987629215246, 5.635571940771385, 0.5532153196933518], [50.037973628183984, 4.237352737090032, -0.4577502498918742], [47.58108253541985, 5.826378368491415, 0.3148236648889965], [48.665863327547704, 6.862150639725639, -0.21174320149712944]],\n",
       "                {&quot;blur&quot;: 15, &quot;maxZoom&quot;: 18, &quot;minOpacity&quot;: 0.5, &quot;radius&quot;: 25}\n",
       "            );\n",
       "        \n",
       "    \n",
       "            heat_map_e6ffa44edbc3d9f32900f4cf117bf5fb.addTo(map_fafd1a03777cea6f363aa30dcab3f0cf);\n",
       "        \n",
       "&lt;/script&gt;\n",
       "&lt;/html&gt;\" style=\"position:absolute;width:100%;height:100%;left:0;top:0;border:none !important;\" allowfullscreen webkitallowfullscreen mozallowfullscreen></iframe></div></div>"
      ],
      "text/plain": [
       "<folium.folium.Map at 0x7fcc1cda2e40>"
      ]
     },
     "execution_count": 2,
     "metadata": {},
     "output_type": "execute_result"
    }
   ],
   "source": [
    "import folium\n",
    "from folium.plugins import HeatMap\n",
    "\n",
    "m = folium.Map([48.0, 5.0], zoom_start=6)\n",
    "\n",
    "HeatMap(data).add_to(m)\n",
    "\n",
    "m"
   ]
  }
 ],
 "metadata": {
  "jupytext": {
   "text_representation": {
    "extension": ".mystnb",
    "format_name": "myst"
   }
  },
  "language_info": {
   "codemirror_mode": {
    "name": "ipython",
    "version": 3
   },
   "file_extension": ".py",
   "mimetype": "text/x-python",
   "name": "python",
   "nbconvert_exporter": "python",
   "pygments_lexer": "ipython3",
   "version": "3.12.2"
  }
 },
 "nbformat": 4,
 "nbformat_minor": 5
}
