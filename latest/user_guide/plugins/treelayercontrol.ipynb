{
 "cells": [
  {
   "cell_type": "code",
   "execution_count": 1,
   "id": "035eb512",
   "metadata": {
    "execution": {
     "iopub.execute_input": "2024-04-07T09:26:08.991161Z",
     "iopub.status.busy": "2024-04-07T09:26:08.990838Z",
     "iopub.status.idle": "2024-04-07T09:26:09.470373Z",
     "shell.execute_reply": "2024-04-07T09:26:09.469884Z"
    },
    "nbsphinx": "hidden"
   },
   "outputs": [],
   "source": [
    "import folium\n",
    "import folium.plugins"
   ]
  },
  {
   "cell_type": "markdown",
   "id": "e4f95088",
   "metadata": {},
   "source": [
    "# TreeLayerControl\n",
    "Create a Layer Control allowing a tree structure for the layers.\n",
    "\n",
    "See https://github.com/jjimenezshaw/Leaflet.Control.Layers.Tree for more\n",
    "information.\n",
    "\n",
    "## Simple example"
   ]
  },
  {
   "cell_type": "code",
   "execution_count": 2,
   "id": "52a1c577",
   "metadata": {
    "execution": {
     "iopub.execute_input": "2024-04-07T09:26:09.472737Z",
     "iopub.status.busy": "2024-04-07T09:26:09.472348Z",
     "iopub.status.idle": "2024-04-07T09:26:09.483847Z",
     "shell.execute_reply": "2024-04-07T09:26:09.483492Z"
    }
   },
   "outputs": [],
   "source": [
    "import folium\n",
    "from folium.plugins.treelayercontrol import TreeLayerControl\n",
    "from folium.features import Marker\n",
    "\n",
    "m = folium.Map(location=[46.603354, 1.8883335], zoom_start=5)\n",
    "osm = folium.TileLayer(\"openstreetmap\").add_to(m)\n",
    "\n",
    "overlay_tree = {\n",
    "    \"label\": \"Points of Interest\",\n",
    "    \"select_all_checkbox\": \"Un/select all\",\n",
    "    \"children\": [\n",
    "        {\n",
    "            \"label\": \"Europe\",\n",
    "            \"select_all_checkbox\": True,\n",
    "            \"children\": [\n",
    "                {\n",
    "                    \"label\": \"France\",\n",
    "                    \"select_all_checkbox\": True,\n",
    "                    \"children\": [\n",
    "                        { \"label\": \"Tour Eiffel\", \"layer\": Marker([48.8582441, 2.2944775]).add_to(m) },\n",
    "                        { \"label\": \"Notre Dame\", \"layer\": Marker([48.8529540, 2.3498726]).add_to(m) },\n",
    "                        { \"label\": \"Louvre\", \"layer\": Marker([48.8605847, 2.3376267]).add_to(m) },\n",
    "                    ]\n",
    "                }, {\n",
    "                    \"label\": \"Germany\",\n",
    "                    \"select_all_checkbox\": True,\n",
    "                    \"children\": [\n",
    "                        { \"label\": \"Branderburger Tor\", \"layer\": Marker([52.5162542, 13.3776805]).add_to(m)},\n",
    "                        { \"label\": \"Kölner Dom\", \"layer\": Marker([50.9413240, 6.9581201]).add_to(m)},\n",
    "                    ]\n",
    "                }, {\"label\": \"Spain\",\n",
    "                    \"select_all_checkbox\": \"De/seleccionar todo\",\n",
    "                    \"children\": [\n",
    "                        { \"label\": \"Palacio Real\", \"layer\": Marker([40.4184145, -3.7137051]).add_to(m)},\n",
    "                        { \"label\": \"La Alhambra\", \"layer\": Marker([37.1767829, -3.5892795]).add_to(m)},\n",
    "                    ]\n",
    "                }\n",
    "            ]\n",
    "        }, {\n",
    "            \"label\": \"Asia\",\n",
    "            \"select_all_checkbox\": True,\n",
    "            \"children\": [\n",
    "                {\n",
    "                    \"label\": \"Jordan\",\n",
    "                    \"select_all_checkbox\": True,\n",
    "                    \"children\": [\n",
    "                        { \"label\": \"Petra\", \"layer\": Marker([30.3292215, 35.4432464]).add_to(m) },\n",
    "                        { \"label\": \"Wadi Rum\", \"layer\": Marker([29.6233486, 35.4390656]).add_to(m) }\n",
    "                    ]\n",
    "                }, {\n",
    "                }\n",
    "            ]\n",
    "        }\n",
    "    ]\n",
    "}\n",
    "\n",
    "control = TreeLayerControl(overlay_tree=overlay_tree).add_to(m)"
   ]
  }
 ],
 "metadata": {
  "jupytext": {
   "text_representation": {
    "extension": ".mystnb",
    "format_name": "myst"
   }
  },
  "language_info": {
   "codemirror_mode": {
    "name": "ipython",
    "version": 3
   },
   "file_extension": ".py",
   "mimetype": "text/x-python",
   "name": "python",
   "nbconvert_exporter": "python",
   "pygments_lexer": "ipython3",
   "version": "3.12.2"
  }
 },
 "nbformat": 4,
 "nbformat_minor": 5
}
